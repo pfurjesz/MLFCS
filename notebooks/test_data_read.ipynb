{
 "cells": [
  {
   "cell_type": "code",
   "execution_count": 1,
   "id": "8c98d33e",
   "metadata": {},
   "outputs": [],
   "source": [
    "import datetime as dt\n",
    "import sys\n",
    "import numpy as np\n",
    "from numpy import cumsum, log, polyfit, sqrt, std, subtract\n",
    "from numpy.random import randn\n",
    "import pandas as pd\n",
    "# from pandas_datareader import data as web\n",
    "import seaborn as sns\n",
    "from pylab import rcParams \n",
    "import matplotlib.pyplot as plt\n",
    "import matplotlib.cm as cm\n",
    "from arch import arch_model\n",
    "from numpy.linalg import LinAlgError\n",
    "from scipy import stats\n",
    "import statsmodels.api as sm\n",
    "import statsmodels.tsa.api as tsa\n",
    "from statsmodels.graphics.tsaplots import plot_acf, plot_pacf\n",
    "from statsmodels.tsa.stattools import acf, q_stat, adfuller\n",
    "from sklearn.metrics import mean_squared_error\n",
    "from scipy.stats import probplot, moment\n",
    "from arch import arch_model\n",
    "from arch.univariate import ConstantMean, GARCH, Normal\n",
    "from sklearn.model_selection import TimeSeriesSplit\n",
    "import warnings\n",
    "\n",
    "\n"
   ]
  },
  {
   "cell_type": "code",
   "execution_count": 2,
   "id": "f44f6e7e",
   "metadata": {},
   "outputs": [],
   "source": [
    "import sys\n",
    "from pathlib import Path\n",
    "\n",
    "# Add the parent directory of the notebook to the Python path\n",
    "sys.path.append(str(Path().resolve().parent))"
   ]
  },
  {
   "cell_type": "code",
   "execution_count": null,
   "id": "f16058f5",
   "metadata": {},
   "outputs": [],
   "source": [
    "from funcs.data_read import (\n",
    "    read_txn_data, \n",
    "    read_ob_data,\n",
    "    save_txn_to_parquet,\n",
    "    read_txn_from_parquet,\n",
    "    save_ob_to_parquet,\n",
    "    read_ob_from_parquet,\n",
    ")\n",
    "\n",
    "from funcs.preprocess import (\n",
    "    preprocess_ob_data, \n",
    "    preprocess_trx_data,\n",
    ")\n",
    "\n",
    "from funcs.features import (\n",
    "    create_features_order_book,\n",
    "    create_features_trx,\n",
    ")\n",
    "\n",
    "from funcs.utils import (\n",
    "    filter_extremes,\n",
    "    deseason_total_volume,\n",
    ")\n"
   ]
  },
  {
   "cell_type": "markdown",
   "id": "aa581f6a",
   "metadata": {},
   "source": [
    "# TRX DATA"
   ]
  },
  {
   "cell_type": "code",
   "execution_count": null,
   "id": "7404431c",
   "metadata": {},
   "outputs": [
    {
     "data": {
      "application/vnd.jupyter.widget-view+json": {
       "model_id": "e94d25c6dd1243f3ace95b1b9e025938",
       "version_major": 2,
       "version_minor": 0
      },
      "text/plain": [
       "Resolving data files:   0%|          | 0/122 [00:00<?, ?it/s]"
      ]
     },
     "metadata": {},
     "output_type": "display_data"
    },
    {
     "data": {
      "application/vnd.jupyter.widget-view+json": {
       "model_id": "afe575e92ddf471dbfb37f1653233ac8",
       "version_major": 2,
       "version_minor": 0
      },
      "text/plain": [
       "Downloading data:   0%|          | 0/122 [00:00<?, ?files/s]"
      ]
     },
     "metadata": {},
     "output_type": "display_data"
    },
    {
     "data": {
      "application/vnd.jupyter.widget-view+json": {
       "model_id": "937eeb6264ac4c13b1742075761a9e25",
       "version_major": 2,
       "version_minor": 0
      },
      "text/plain": [
       "Generating train split: 0 examples [00:00, ? examples/s]"
      ]
     },
     "metadata": {},
     "output_type": "display_data"
    }
   ],
   "source": [
    "\n",
    "trx_data=read_txn_data(test=False)"
   ]
  },
  {
   "cell_type": "code",
   "execution_count": 6,
   "id": "db668e0f",
   "metadata": {},
   "outputs": [
    {
     "data": {
      "text/plain": [
       "(2795142, 12)"
      ]
     },
     "execution_count": 6,
     "metadata": {},
     "output_type": "execute_result"
    }
   ],
   "source": [
    "trx_data.shape"
   ]
  },
  {
   "cell_type": "code",
   "execution_count": 9,
   "id": "ba76cb02",
   "metadata": {},
   "outputs": [
    {
     "name": "stdout",
     "output_type": "stream",
     "text": [
      "trx Data saved to trx_data.parquet successfully.\n"
     ]
    }
   ],
   "source": [
    "save_txn_to_parquet(trx_data, \"trx_data.parquet\")"
   ]
  },
  {
   "cell_type": "code",
   "execution_count": 11,
   "id": "7fa2c4bb",
   "metadata": {},
   "outputs": [
    {
     "name": "stdout",
     "output_type": "stream",
     "text": [
      "trx Data loaded successfully.\n"
     ]
    }
   ],
   "source": [
    "trx_parquet=read_txn_from_parquet(\"trx_data.parquet\").shape"
   ]
  },
  {
   "cell_type": "markdown",
   "id": "b2db3d35",
   "metadata": {},
   "source": [
    "# OB dataset"
   ]
  },
  {
   "cell_type": "code",
   "execution_count": null,
   "id": "ba3f7c98",
   "metadata": {},
   "outputs": [],
   "source": [
    "ob_data=read_ob_data(test=True,test_size=2)\n",
    "trx_data=read_txn_data(test=False)\n",
    "# preprocess the data\n",
    "preprocess_trx_data=preprocess_trx_data(trx_data,\"5min\")\n",
    "preprocess_ob_data=preprocess_ob_data(ob_data,freq=\"5min\")\n",
    "# create features \n",
    "ob_features=create_features_order_book(preprocess_ob_data)\n",
    "trx_features=create_features_trx(preprocess_trx_data)"
   ]
  },
  {
   "cell_type": "code",
   "execution_count": null,
   "id": "d57211d6",
   "metadata": {},
   "outputs": [],
   "source": [
    "save_ob_to_parquet(ob_data, \"ob_data.parquet\")\n",
    "#b_parquet=read_ob_from_parquet(\"ob_data.parquet\") fills memory too quick \n",
    "#ob_parquet.shape"
   ]
  },
  {
   "cell_type": "markdown",
   "id": "90a1a0c2",
   "metadata": {},
   "source": [
    "# Save Feature Files"
   ]
  },
  {
   "cell_type": "code",
   "execution_count": null,
   "id": "0584604a",
   "metadata": {},
   "outputs": [],
   "source": [
    "# preprocess the data\n",
    "preprocess_trx_data=preprocess_trx_data(trx_data,\"5min\")\n",
    "preprocess_ob_data=preprocess_ob_data(ob_data,freq=\"5min\")\n",
    "# create features \n",
    "ob_features=create_features_order_book(preprocess_ob_data)\n",
    "trx_features=create_features_trx(preprocess_trx_data)"
   ]
  }
 ],
 "metadata": {
  "kernelspec": {
   "display_name": "IML2024",
   "language": "python",
   "name": "python3"
  },
  "language_info": {
   "codemirror_mode": {
    "name": "ipython",
    "version": 3
   },
   "file_extension": ".py",
   "mimetype": "text/x-python",
   "name": "python",
   "nbconvert_exporter": "python",
   "pygments_lexer": "ipython3",
   "version": "3.10.14"
  }
 },
 "nbformat": 4,
 "nbformat_minor": 5
}
