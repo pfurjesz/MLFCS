{
 "cells": [
  {
   "cell_type": "code",
   "execution_count": 27,
   "id": "bc21d6e7",
   "metadata": {},
   "outputs": [],
   "source": [
    "import sys\n",
    "from pathlib import Path\n",
    "\n",
    "# Add the parent directory of the notebook to the Python path\n",
    "sys.path.append(str(Path().resolve().parent))"
   ]
  },
  {
   "cell_type": "code",
   "execution_count": 28,
   "id": "2bc05fdb",
   "metadata": {},
   "outputs": [],
   "source": [
    "from funcs.data_read import (\n",
    "    read_txn_data, \n",
    "    read_ob_data,\n",
    ")\n",
    "\n",
    "from funcs.preprocess import (\n",
    "    preprocess_ob_data, \n",
    "    preprocess_trx_data,\n",
    ")\n",
    "\n",
    "\n",
    "from funcs.utils import (\n",
    "    filter_extremes,\n",
    ")"
   ]
  },
  {
   "cell_type": "markdown",
   "id": "0f65e2c5",
   "metadata": {},
   "source": [
    "# OB Data"
   ]
  },
  {
   "cell_type": "code",
   "execution_count": 29,
   "id": "4653436f",
   "metadata": {},
   "outputs": [
    {
     "name": "stdout",
     "output_type": "stream",
     "text": [
      "Processing 2 file(s): ['C:\\\\Users\\\\peter\\\\codes\\\\ml\\\\eth\\\\Komplex\\\\data\\\\bitstamp_ob_04_07_2018.zip', 'C:\\\\Users\\\\peter\\\\codes\\\\ml\\\\eth\\\\Komplex\\\\data\\\\bitstamp_ob_04_08_2018.zip']\n",
      "Processing bitstamp_ob_04_07_2018.zip...\n",
      "Processing bitstamp_ob_04_08_2018.zip...\n",
      "Finished loading. Total rows: 49,188,752\n"
     ]
    }
   ],
   "source": [
    "\n",
    "df=read_ob_data(test=True,test_size=2)"
   ]
  },
  {
   "cell_type": "code",
   "execution_count": 30,
   "id": "be5bae21",
   "metadata": {},
   "outputs": [
    {
     "name": "stdout",
     "output_type": "stream",
     "text": [
      "Timestamp ID created successfully.\n",
      "Resampled OB data to 10min frequency. Selected 2459378 rows.\n",
      "Missing values handled successfully.\n",
      "OB Data Preprocessed Successfully.\n"
     ]
    }
   ],
   "source": [
    "ob=preprocess_ob_data(df,freq=\"10min\")"
   ]
  },
  {
   "cell_type": "markdown",
   "id": "850914e8",
   "metadata": {},
   "source": [
    "# TRX Data"
   ]
  },
  {
   "cell_type": "code",
   "execution_count": 31,
   "id": "38779c94",
   "metadata": {},
   "outputs": [],
   "source": [
    "df2=read_txn_data(test=True,test_size=2)"
   ]
  },
  {
   "cell_type": "code",
   "execution_count": 32,
   "id": "ddcc1d89",
   "metadata": {},
   "outputs": [
    {
     "name": "stdout",
     "output_type": "stream",
     "text": [
      "TRX data resampled to 10min frequency - 38017 transactions grouped into time windows\n",
      "Timestamp ID created successfully.\n",
      "Missing values handled successfully.\n",
      "TRX Data Preprocessed Successfully.\n"
     ]
    }
   ],
   "source": [
    "trx=preprocess_trx_data(df2,\"10min\")"
   ]
  },
  {
   "cell_type": "code",
   "execution_count": 33,
   "id": "3a196e3b",
   "metadata": {},
   "outputs": [
    {
     "data": {
      "text/plain": [
       "(300,)"
      ]
     },
     "execution_count": 33,
     "metadata": {},
     "output_type": "execute_result"
    }
   ],
   "source": [
    "trx[\"timestamp_id\"].unique().shape"
   ]
  },
  {
   "cell_type": "code",
   "execution_count": 34,
   "id": "70b89add",
   "metadata": {},
   "outputs": [
    {
     "data": {
      "text/html": [
       "<div>\n",
       "<style scoped>\n",
       "    .dataframe tbody tr th:only-of-type {\n",
       "        vertical-align: middle;\n",
       "    }\n",
       "\n",
       "    .dataframe tbody tr th {\n",
       "        vertical-align: top;\n",
       "    }\n",
       "\n",
       "    .dataframe thead th {\n",
       "        text-align: right;\n",
       "    }\n",
       "</style>\n",
       "<table border=\"1\" class=\"dataframe\">\n",
       "  <thead>\n",
       "    <tr style=\"text-align: right;\">\n",
       "      <th></th>\n",
       "      <th>datetime</th>\n",
       "      <th>price</th>\n",
       "      <th>cost</th>\n",
       "      <th>id</th>\n",
       "      <th>amount</th>\n",
       "      <th>side</th>\n",
       "      <th>original_datetime</th>\n",
       "      <th>timestamp_id</th>\n",
       "    </tr>\n",
       "  </thead>\n",
       "  <tbody>\n",
       "    <tr>\n",
       "      <th>0</th>\n",
       "      <td>2018-05-31 21:00:00+00:00</td>\n",
       "      <td>7538.34</td>\n",
       "      <td>75.383400</td>\n",
       "      <td>67405327</td>\n",
       "      <td>0.010000</td>\n",
       "      <td>sell</td>\n",
       "      <td>2018-05-31 21:00:13+00:00</td>\n",
       "      <td>1527800400</td>\n",
       "    </tr>\n",
       "    <tr>\n",
       "      <th>1</th>\n",
       "      <td>2018-05-31 21:00:00+00:00</td>\n",
       "      <td>7533.92</td>\n",
       "      <td>35.761333</td>\n",
       "      <td>67405331</td>\n",
       "      <td>0.004747</td>\n",
       "      <td>sell</td>\n",
       "      <td>2018-05-31 21:00:18+00:00</td>\n",
       "      <td>1527800400</td>\n",
       "    </tr>\n",
       "    <tr>\n",
       "      <th>2</th>\n",
       "      <td>2018-05-31 21:00:00+00:00</td>\n",
       "      <td>7535.44</td>\n",
       "      <td>2995.337400</td>\n",
       "      <td>67405330</td>\n",
       "      <td>0.397500</td>\n",
       "      <td>sell</td>\n",
       "      <td>2018-05-31 21:00:18+00:00</td>\n",
       "      <td>1527800400</td>\n",
       "    </tr>\n",
       "    <tr>\n",
       "      <th>3</th>\n",
       "      <td>2018-05-31 21:00:00+00:00</td>\n",
       "      <td>7536.00</td>\n",
       "      <td>7.536000</td>\n",
       "      <td>67405329</td>\n",
       "      <td>0.001000</td>\n",
       "      <td>sell</td>\n",
       "      <td>2018-05-31 21:00:18+00:00</td>\n",
       "      <td>1527800400</td>\n",
       "    </tr>\n",
       "    <tr>\n",
       "      <th>4</th>\n",
       "      <td>2018-05-31 21:00:00+00:00</td>\n",
       "      <td>7537.49</td>\n",
       "      <td>753.749000</td>\n",
       "      <td>67405328</td>\n",
       "      <td>0.100000</td>\n",
       "      <td>sell</td>\n",
       "      <td>2018-05-31 21:00:18+00:00</td>\n",
       "      <td>1527800400</td>\n",
       "    </tr>\n",
       "    <tr>\n",
       "      <th>...</th>\n",
       "      <td>...</td>\n",
       "      <td>...</td>\n",
       "      <td>...</td>\n",
       "      <td>...</td>\n",
       "      <td>...</td>\n",
       "      <td>...</td>\n",
       "      <td>...</td>\n",
       "      <td>...</td>\n",
       "    </tr>\n",
       "    <tr>\n",
       "      <th>81</th>\n",
       "      <td>2018-05-31 21:00:00+00:00</td>\n",
       "      <td>7550.95</td>\n",
       "      <td>1480.209406</td>\n",
       "      <td>67405483</td>\n",
       "      <td>0.196030</td>\n",
       "      <td>buy</td>\n",
       "      <td>2018-05-31 21:08:21+00:00</td>\n",
       "      <td>1527800400</td>\n",
       "    </tr>\n",
       "    <tr>\n",
       "      <th>82</th>\n",
       "      <td>2018-05-31 21:00:00+00:00</td>\n",
       "      <td>7550.95</td>\n",
       "      <td>1997.399947</td>\n",
       "      <td>67405498</td>\n",
       "      <td>0.264523</td>\n",
       "      <td>buy</td>\n",
       "      <td>2018-05-31 21:08:46+00:00</td>\n",
       "      <td>1527800400</td>\n",
       "    </tr>\n",
       "    <tr>\n",
       "      <th>83</th>\n",
       "      <td>2018-05-31 21:00:00+00:00</td>\n",
       "      <td>7542.56</td>\n",
       "      <td>3143.962569</td>\n",
       "      <td>67405506</td>\n",
       "      <td>0.416830</td>\n",
       "      <td>sell</td>\n",
       "      <td>2018-05-31 21:09:11+00:00</td>\n",
       "      <td>1527800400</td>\n",
       "    </tr>\n",
       "    <tr>\n",
       "      <th>84</th>\n",
       "      <td>2018-05-31 21:00:00+00:00</td>\n",
       "      <td>7551.00</td>\n",
       "      <td>370.179469</td>\n",
       "      <td>67405508</td>\n",
       "      <td>0.049024</td>\n",
       "      <td>buy</td>\n",
       "      <td>2018-05-31 21:09:16+00:00</td>\n",
       "      <td>1527800400</td>\n",
       "    </tr>\n",
       "    <tr>\n",
       "      <th>85</th>\n",
       "      <td>2018-05-31 21:00:00+00:00</td>\n",
       "      <td>7551.68</td>\n",
       "      <td>73.764810</td>\n",
       "      <td>67405522</td>\n",
       "      <td>0.009768</td>\n",
       "      <td>buy</td>\n",
       "      <td>2018-05-31 21:09:57+00:00</td>\n",
       "      <td>1527800400</td>\n",
       "    </tr>\n",
       "  </tbody>\n",
       "</table>\n",
       "<p>86 rows × 8 columns</p>\n",
       "</div>"
      ],
      "text/plain": [
       "                    datetime    price         cost        id    amount   side  \\\n",
       "0  2018-05-31 21:00:00+00:00  7538.34    75.383400  67405327  0.010000   sell   \n",
       "1  2018-05-31 21:00:00+00:00  7533.92    35.761333  67405331  0.004747   sell   \n",
       "2  2018-05-31 21:00:00+00:00  7535.44  2995.337400  67405330  0.397500   sell   \n",
       "3  2018-05-31 21:00:00+00:00  7536.00     7.536000  67405329  0.001000   sell   \n",
       "4  2018-05-31 21:00:00+00:00  7537.49   753.749000  67405328  0.100000   sell   \n",
       "..                       ...      ...          ...       ...       ...    ...   \n",
       "81 2018-05-31 21:00:00+00:00  7550.95  1480.209406  67405483  0.196030    buy   \n",
       "82 2018-05-31 21:00:00+00:00  7550.95  1997.399947  67405498  0.264523    buy   \n",
       "83 2018-05-31 21:00:00+00:00  7542.56  3143.962569  67405506  0.416830   sell   \n",
       "84 2018-05-31 21:00:00+00:00  7551.00   370.179469  67405508  0.049024    buy   \n",
       "85 2018-05-31 21:00:00+00:00  7551.68    73.764810  67405522  0.009768    buy   \n",
       "\n",
       "           original_datetime  timestamp_id  \n",
       "0  2018-05-31 21:00:13+00:00    1527800400  \n",
       "1  2018-05-31 21:00:18+00:00    1527800400  \n",
       "2  2018-05-31 21:00:18+00:00    1527800400  \n",
       "3  2018-05-31 21:00:18+00:00    1527800400  \n",
       "4  2018-05-31 21:00:18+00:00    1527800400  \n",
       "..                       ...           ...  \n",
       "81 2018-05-31 21:08:21+00:00    1527800400  \n",
       "82 2018-05-31 21:08:46+00:00    1527800400  \n",
       "83 2018-05-31 21:09:11+00:00    1527800400  \n",
       "84 2018-05-31 21:09:16+00:00    1527800400  \n",
       "85 2018-05-31 21:09:57+00:00    1527800400  \n",
       "\n",
       "[86 rows x 8 columns]"
      ]
     },
     "execution_count": 34,
     "metadata": {},
     "output_type": "execute_result"
    }
   ],
   "source": [
    "trx[trx[\"timestamp_id\"]==1527800400]"
   ]
  }
 ],
 "metadata": {
  "kernelspec": {
   "display_name": "IML2024",
   "language": "python",
   "name": "python3"
  },
  "language_info": {
   "codemirror_mode": {
    "name": "ipython",
    "version": 3
   },
   "file_extension": ".py",
   "mimetype": "text/x-python",
   "name": "python",
   "nbconvert_exporter": "python",
   "pygments_lexer": "ipython3",
   "version": "3.10.14"
  }
 },
 "nbformat": 4,
 "nbformat_minor": 5
}
