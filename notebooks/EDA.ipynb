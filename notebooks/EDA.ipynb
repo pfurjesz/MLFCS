{
 "cells": [
  {
   "cell_type": "code",
   "execution_count": 25,
   "metadata": {},
   "outputs": [],
   "source": [
    "###### DON'T USE IT, CRASHES AFTER RUNNING FOR MORE THAN AN HOUR\n",
    "\n",
    "# from datasets import load_dataset\n",
    "\n",
    "# # Login using e.g. `huggingface-cli login` to access this dataset\n",
    "# ds = load_dataset(\"AisotTechnologies/aisot_btc_lob_trades\")"
   ]
  },
  {
   "cell_type": "code",
   "execution_count": 26,
   "metadata": {},
   "outputs": [],
   "source": [
    "###### USE THIS METHOD INSTEAD\n",
    "\n",
    "# from huggingface_hub import snapshot_download\n",
    "\n",
    "# snapshot_download(repo_id=\"AisotTechnologies/aisot_btc_lob_trades\", allow_patterns=\"*.zip\", local_dir='data/', repo_type='dataset')"
   ]
  },
  {
   "cell_type": "code",
   "execution_count": 27,
   "metadata": {},
   "outputs": [],
   "source": [
    "import sys\n",
    "from pathlib import Path\n",
    "\n",
    "# Add the parent directory of the notebook to the Python path\n",
    "sys.path.append(str(Path().resolve().parent))"
   ]
  },
  {
   "cell_type": "code",
   "execution_count": null,
   "metadata": {},
   "outputs": [],
   "source": [
    "import pandas as pd\n",
    "import numpy as np\n",
    "import matplotlib.pyplot as plt\n",
    "import seaborn as sns\n",
    "import scipy.stats as stats\n",
    "from statsmodels.graphics.tsaplots import plot_acf, plot_pacf\n",
    "from tqdm import *\n",
    "import os\n",
    "\n",
    "import os\n",
    "from pathlib import Path\n",
    "import pandas as pd\n",
    "from datasets import load_dataset  # Assuming this is from the 'datasets' library\n",
    "\n",
    "import datetime as dt\n",
    "import sys\n",
    "import numpy as np\n",
    "from numpy import cumsum, log, polyfit, sqrt, std, subtract\n",
    "from numpy.random import randn\n",
    "import pandas as pd\n",
    "# from pandas_datareader import data as web\n",
    "import seaborn as sns\n",
    "from pylab import rcParams \n",
    "import matplotlib.pyplot as plt\n",
    "import matplotlib.cm as cm\n",
    "from arch import arch_model\n",
    "from numpy.linalg import LinAlgError\n",
    "from scipy import stats\n",
    "import statsmodels.api as sm\n",
    "import statsmodels.tsa.api as tsa\n",
    "from statsmodels.graphics.tsaplots import plot_acf, plot_pacf\n",
    "from statsmodels.tsa.stattools import acf, q_stat, adfuller\n",
    "from sklearn.metrics import mean_squared_error\n",
    "from scipy.stats import probplot, moment\n",
    "from arch import arch_model\n",
    "from arch.univariate import ConstantMean, GARCH, Normal\n",
    "from sklearn.model_selection import TimeSeriesSplit\n",
    "from datasets import load_dataset\n",
    "import warnings\n",
    "\n",
    "import os\n",
    "from pathlib import Path\n",
    "import pandas as pd\n",
    "from datasets import load_dataset  # Assuming this is from the 'datasets' library\n",
    "import sys\n",
    "from pathlib import Path\n",
    "\n",
    "# Add the parent directory of the notebook to the Python path\n",
    "import datetime as dt\n",
    "import sys\n",
    "import numpy as np\n",
    "from numpy import cumsum, log, polyfit, sqrt, std, subtract\n",
    "from numpy.random import randn\n",
    "import pandas as pd\n",
    "# from pandas_datareader import data as web\n",
    "import seaborn as sns\n",
    "from pylab import rcParams \n",
    "import matplotlib.pyplot as plt\n",
    "import matplotlib.cm as cm\n",
    "from arch import arch_model\n",
    "from numpy.linalg import LinAlgError\n",
    "from scipy import stats\n",
    "import statsmodels.api as sm\n",
    "import statsmodels.tsa.api as tsa\n",
    "from statsmodels.graphics.tsaplots import plot_acf, plot_pacf\n",
    "from statsmodels.tsa.stattools import acf, q_stat, adfuller\n",
    "from sklearn.metrics import mean_squared_error\n",
    "from scipy.stats import probplot, moment\n",
    "from arch import arch_model\n",
    "from arch.univariate import ConstantMean, GARCH, Normal\n",
    "from sklearn.model_selection import TimeSeriesSplit\n",
    "from datasets import load_dataset\n",
    "import warnings\n",
    "\n",
    "import os\n",
    "from pathlib import Path\n",
    "import pandas as pd\n",
    "from datasets import load_dataset  # Assuming this is from the 'datasets' library\n",
    "import sys\n",
    "from pathlib import Path\n",
    "\n",
    "# Add the parent directory of the notebook to the Python path\n",
    "sys.path.append(str(Path().resolve().parent))\n",
    "sys.path.append(str(Path().resolve().parent.parent))\n",
    "\n",
    "from funcs.data_read import (\n",
    "    read_txn_data,  \n",
    "    read_ob_data,\n",
    "    load_ob_features,\n",
    "    load_trx_features,\n",
    ")\n",
    "\n",
    "from funcs.preprocess import (\n",
    "    preprocess_ob_data, \n",
    "    preprocess_trx_data,\n",
    ")\n",
    "\n",
    "from funcs.features import (\n",
    "    create_features_order_book,\n",
    "    create_features_trx,\n",
    ")\n",
    "\n",
    "from funcs.utils import (\n",
    "    filter_extremes,\n",
    "    deseason_total_volume,\n",
    ")\n",
    "\n",
    "\n",
    "\n",
    "\n"
   ]
  },
  {
   "cell_type": "code",
   "execution_count": 29,
   "metadata": {},
   "outputs": [
    {
     "name": "stdout",
     "output_type": "stream",
     "text": [
      "✅ Loaded TRX features (1min) from:\n",
      "C:\\Users\\peter\\codes\\ml\\eth\\Komplex\\trx_features\\trx_features_1min.parquet\n",
      "Reading 109 files from C:\\Users\\peter\\codes\\ml\\eth\\Komplex\\ob_features\\1min...\n",
      "Combined DataFrame for 1min created. Total rows: 155,954\n"
     ]
    }
   ],
   "source": [
    "trx_1min_features = load_trx_features(\"1min\")\n",
    "ob_1min_fatures=load_ob_features(freq=\"1min\")"
   ]
  },
  {
   "cell_type": "code",
   "execution_count": 30,
   "metadata": {},
   "outputs": [
    {
     "name": "stdout",
     "output_type": "stream",
     "text": [
      "Merged DataFrame created. Total rows: 168,743\n",
      "                        timestamp_id                  datetime  first_price  \\\n",
      "0      1970-01-01 00:00:01.527800400 2018-05-31 21:00:00+00:00      7538.34   \n",
      "1      1970-01-01 00:00:01.527800460 2018-05-31 21:01:00+00:00      7532.43   \n",
      "2      1970-01-01 00:00:01.527800520 2018-05-31 21:02:00+00:00      7535.01   \n",
      "3      1970-01-01 00:00:01.527800580 2018-05-31 21:03:00+00:00      7540.19   \n",
      "4      1970-01-01 00:00:01.527800640 2018-05-31 21:04:00+00:00      7541.00   \n",
      "...                              ...                       ...          ...   \n",
      "168738 1970-01-01 00:00:01.538344500 2018-09-30 21:55:00+00:00      6553.46   \n",
      "168739 1970-01-01 00:00:01.538344560 2018-09-30 21:56:00+00:00      6555.77   \n",
      "168740 1970-01-01 00:00:01.538344620 2018-09-30 21:57:00+00:00      6555.75   \n",
      "168741 1970-01-01 00:00:01.538344680 2018-09-30 21:58:00+00:00      6555.00   \n",
      "168742 1970-01-01 00:00:01.538344740 2018-09-30 21:59:00+00:00      6555.73   \n",
      "\n",
      "        last_price  max_price  min_price  buy_volume  sell_volume  \\\n",
      "0          7542.01    7544.79    7531.36   18.203291     0.677437   \n",
      "1          7539.40    7544.69    7530.81    0.218896     0.946981   \n",
      "2          7540.11    7540.11    7535.01    0.021258     0.011077   \n",
      "3          7540.00    7541.90    7535.01    0.143166     0.001062   \n",
      "4          7543.32    7543.32    7538.34    2.837166     0.000000   \n",
      "...            ...        ...        ...         ...          ...   \n",
      "168738     6554.33    6555.77    6553.44    1.310116     0.000000   \n",
      "168739     6554.20    6555.77    6554.20    0.134624     0.038058   \n",
      "168740     6555.78    6555.79    6554.30    1.491747     0.038143   \n",
      "168741     6555.00    6555.76    6555.00    0.010576     0.924569   \n",
      "168742     6555.74    6555.78    6555.73    0.983765     0.000000   \n",
      "\n",
      "        total_volume  volume_imbalance_x  ...  volume_imbalance_y  \\\n",
      "0          18.880728           17.525854  ...       583654.707923   \n",
      "1           1.165876           -0.728085  ...       583654.707923   \n",
      "2           0.032336            0.010181  ...       583654.707923   \n",
      "3           0.144229            0.142104  ...       583654.707923   \n",
      "4           2.837166            2.837166  ...       583654.707923   \n",
      "...              ...                 ...  ...                 ...   \n",
      "168738      1.310116            1.310116  ...       499262.506017   \n",
      "168739      0.172682            0.096565  ...       499277.462146   \n",
      "168740      1.529890            1.453603  ...       499266.959101   \n",
      "168741      0.935145           -0.913993  ...       499273.392566   \n",
      "168742      0.983765            0.983765  ...       499275.246118   \n",
      "\n",
      "        ask_slope_10pct  ask_slope_1pct ask_slope_5pct  bid_slope_10pct  \\\n",
      "0            879.851094      341.524127     709.102076      1528.213316   \n",
      "1            879.851094      341.524127     709.102076      1528.213316   \n",
      "2            879.851094      341.524127     709.102076      1528.213316   \n",
      "3            879.851094      341.524127     709.102076      1528.213316   \n",
      "4            879.851094      341.524127     709.102076      1528.213316   \n",
      "...                 ...             ...            ...              ...   \n",
      "168738      1340.607563      237.008769    1028.643470      1663.029639   \n",
      "168739      1341.003894      346.214500    1032.789759      1660.572572   \n",
      "168740      1335.308023      345.491638    1028.985155      1660.949665   \n",
      "168741      1320.474641      345.138256    1014.151773      1653.246750   \n",
      "168742      1293.368122      335.330738     988.045254      1628.085949   \n",
      "\n",
      "        bid_slope_1pct  bid_slope_5pct  slope_imbalance_10pct  \\\n",
      "0           249.016349      841.627346             648.362222   \n",
      "1           249.016349      841.627346             648.362222   \n",
      "2           249.016349      841.627346             648.362222   \n",
      "3           249.016349      841.627346             648.362222   \n",
      "4           249.016349      841.627346             648.362222   \n",
      "...                ...             ...                    ...   \n",
      "168738      235.813402      704.366480             322.422076   \n",
      "168739      232.846335      700.904624             319.568679   \n",
      "168740      226.119244      702.255443             325.641642   \n",
      "168741      224.596329      694.552529             332.772109   \n",
      "168742      225.528328      669.391727             334.717827   \n",
      "\n",
      "        slope_imbalance_1pct  slope_imbalance_5pct  \n",
      "0                  92.507778            132.525270  \n",
      "1                  92.507778            132.525270  \n",
      "2                  92.507778            132.525270  \n",
      "3                  92.507778            132.525270  \n",
      "4                  92.507778            132.525270  \n",
      "...                      ...                   ...  \n",
      "168738              1.195367            324.276990  \n",
      "168739            113.368165            331.885135  \n",
      "168740            119.372394            326.729711  \n",
      "168741            120.541927            319.599244  \n",
      "168742            109.802410            318.653527  \n",
      "\n",
      "[168743 rows x 28 columns]\n"
     ]
    }
   ],
   "source": [
    "# Merge the two DataFrames on \"timestamp_id\" ,max diff is 1  min\n",
    " \n",
    "# Ensure both DataFrames have the same timestamp format\n",
    "trx_1min_features['timestamp_id'] = pd.to_datetime(trx_1min_features['timestamp_id'])\n",
    "ob_1min_fatures['timestamp_id'] = pd.to_datetime(ob_1min_fatures['timestamp_id'])\n",
    "\n",
    "# Merge the DataFrames on \"timestamp_id\" with a tolerance of 2 minutes\n",
    "merged_df = pd.merge_asof(\n",
    "    trx_1min_features.sort_values(\"timestamp_id\"),\n",
    "    ob_1min_fatures.sort_values(\"timestamp_id\"),\n",
    "    on=\"timestamp_id\",\n",
    "    direction=\"nearest\",\n",
    "    tolerance=pd.Timedelta(\"2min\")\n",
    ")\n",
    "\n",
    "# Check the result of the merge\n",
    "print(f\"Merged DataFrame created. Total rows: {len(merged_df):,}\")\n",
    "\n",
    "\n",
    "#rename datatime_x to datatime\n",
    "merged_df.rename(columns={\"timestamp_id_x\": \"timestamp_id\"}, inplace=True)\n",
    "merged_df.rename(columns={\"datetime_x\": \"datetime\"}, inplace=True)\n",
    "print(merged_df)"
   ]
  },
  {
   "cell_type": "code",
   "execution_count": 51,
   "metadata": {},
   "outputs": [
    {
     "data": {
      "image/png": "[encoded data removed]",
      "text/plain": [
       "<Figure size 1200x600 with 1 Axes>"
      ]
     },
     "metadata": {},
     "output_type": "display_data"
    }
   ],
   "source": [
    "# plot total volume \n",
    "\n",
    "plt.figure(figsize=(12, 6))\n",
    "plt.plot(merged_df[\"datetime\"], merged_df[\"total_volume\"], label=\"Total Volume\", color='blue')\n",
    "plt.title(\"Total Volume Over Time\")\n",
    "plt.xlabel(\"Datetime\")\n",
    "plt.ylabel(\"Total Volume\")\n",
    "plt.xticks(rotation=45)\n",
    "plt.legend()\n",
    "\n",
    "plt.tight_layout()\n",
    "plt.show()"
   ]
  },
  {
   "cell_type": "code",
   "execution_count": 53,
   "metadata": {},
   "outputs": [
    {
     "data": {
      "image/png": "[encoded data removed]",
      "text/plain": [
       "<Figure size 1200x600 with 2 Axes>"
      ]
     },
     "metadata": {},
     "output_type": "display_data"
    }
   ],
   "source": [
    "# buy and sell volume on two plot under one another\n",
    "plt.figure(figsize=(12, 6))\n",
    "plt.subplot(2, 1, 1)\n",
    "plt.plot(merged_df[\"datetime\"], merged_df[\"buy_volume\"], label=\"Buy Volume\", color='green')\n",
    "plt.title(\"Buy Volume Over Time\")\n",
    "plt.xlabel(\"Datetime\")\n",
    "plt.ylabel(\"Buy Volume\")\n",
    "plt.xticks(rotation=45)\n",
    "\n",
    "plt.legend()\n",
    "plt.subplot(2, 1, 2)\n",
    "plt.plot(merged_df[\"datetime\"], merged_df[\"sell_volume\"], label=\"Sell Volume\", color='red')\n",
    "plt.title(\"Sell Volume Over Time\")\n",
    "plt.xlabel(\"Datetime\")\n",
    "plt.ylabel(\"Sell Volume\")\n",
    "plt.xticks(rotation=45)\n",
    "\n",
    "plt.legend()\n",
    "plt.tight_layout()\n",
    "plt.show()\n"
   ]
  },
  {
   "cell_type": "code",
   "execution_count": 58,
   "metadata": {},
   "outputs": [
    {
     "name": "stdout",
     "output_type": "stream",
     "text": [
      "Max Sell Volume Date: 2018-08-10 21:08:00+00:00\n",
      "Min Sell Volume Date: 2018-05-31 21:04:00+00:00\n",
      "Max Buy Volume Date: 2018-06-28 21:10:00+00:00\n",
      "Min Buy Volume Date: 2018-06-01 02:50:00+00:00\n"
     ]
    }
   ],
   "source": [
    "# date of the man and min sell volume\n",
    "\n",
    "max_sell_volume_date = merged_df.loc[merged_df['sell_volume'].idxmax(), 'datetime']\n",
    "min_sell_volume_date = merged_df.loc[merged_df['sell_volume'].idxmin(), 'datetime']\n",
    "print(f\"Max Sell Volume Date: {max_sell_volume_date}\")\n",
    "print(f\"Min Sell Volume Date: {min_sell_volume_date}\")\n",
    "\n",
    "# same for buy volume\n",
    "max_buy_volume_date = merged_df.loc[merged_df['buy_volume'].idxmax(), 'datetime']\n",
    "min_buy_volume_date = merged_df.loc[merged_df['buy_volume'].idxmin(), 'datetime']\n",
    "print(f\"Max Buy Volume Date: {max_buy_volume_date}\")\n",
    "print(f\"Min Buy Volume Date: {min_buy_volume_date}\")    "
   ]
  },
  {
   "cell_type": "code",
   "execution_count": 54,
   "metadata": {},
   "outputs": [],
   "source": [
    "trx_dataset_grouped=merged_df.copy()"
   ]
  },
  {
   "cell_type": "markdown",
   "metadata": {},
   "source": [
    "### Stackplot"
   ]
  },
  {
   "cell_type": "code",
   "execution_count": 32,
   "metadata": {},
   "outputs": [
    {
     "name": "stdout",
     "output_type": "stream",
     "text": [
      "                Q1        Q2        Q3     Q1_Q2     Q2_Q3  \\\n",
      "time                                                         \n",
      "00:00:00  0.465289  2.190750  7.687681  1.725461  5.496931   \n",
      "00:01:00  0.701499  2.722075  6.400917  2.020576  3.678842   \n",
      "00:02:00  0.394041  1.337212  6.419471  0.943171  5.082259   \n",
      "00:03:00  0.533070  2.137138  6.240888  1.604068  4.103750   \n",
      "00:04:00  0.308838  2.446320  5.799946  2.137483  3.353626   \n",
      "\n",
      "          minutes_since_midnight  \n",
      "time                              \n",
      "00:00:00                       0  \n",
      "00:01:00                       1  \n",
      "00:02:00                       2  \n",
      "00:03:00                       3  \n",
      "00:04:00                       4  \n"
     ]
    }
   ],
   "source": [
    "# Add time column for grouping\n",
    "trx_dataset_grouped['time'] = trx_dataset_grouped['datetime'].dt.time\n",
    "\n",
    "# Group by time and calculate quantiles\n",
    "trx_dataset_grouped_viz = trx_dataset_grouped.groupby(\"time\")['total_volume'].quantile([0.25, 0.5, 0.75]).unstack()\n",
    "trx_dataset_grouped_viz.rename({0.25: 'Q1', 0.5: 'Q2', 0.75: 'Q3'}, axis=1, inplace=True)\n",
    "\n",
    "# Calculate IQR ranges\n",
    "trx_dataset_grouped_viz['Q1_Q2'] = trx_dataset_grouped_viz['Q2'] - trx_dataset_grouped_viz['Q1']  # Lower IQR\n",
    "trx_dataset_grouped_viz['Q2_Q3'] = trx_dataset_grouped_viz['Q3'] - trx_dataset_grouped_viz['Q2']  # Upper IQR\n",
    "\n",
    "# Convert time index to minutes since midnight for plotting\n",
    "trx_dataset_grouped_viz['minutes_since_midnight'] = [t.hour * 60 + t.minute for t in trx_dataset_grouped_viz.index]\n",
    "\n",
    "# Display the first few rows\n",
    "print(trx_dataset_grouped_viz.head())"
   ]
  },
  {
   "cell_type": "code",
   "execution_count": 33,
   "metadata": {},
   "outputs": [
    {
     "data": {
      "image/png": "[encoded data removed]",
      "text/plain": [
       "<Figure size 1200x600 with 1 Axes>"
      ]
     },
     "metadata": {},
     "output_type": "display_data"
    }
   ],
   "source": [
    "# Calculate IQR ranges\n",
    "\n",
    "\n",
    "# Plot\n",
    "fig, ax = plt.subplots(figsize=(12, 6))\n",
    "\n",
    "minutes = [0, 90, 480, 810]  # Convert times to minutes since midnight\n",
    "\n",
    "colors = ['black', 'black', 'blue', 'red']\n",
    "labels = ['TSE', 'HKSE', 'LSE', 'NYSE']\n",
    "for t, color, label in zip(minutes, colors, labels):\n",
    "    if label == 'HKSE':\n",
    "        ax.axvline(x=t, color=color, label=label)\n",
    "    else:   \n",
    "        ax.axvline(x=t, linestyle='--', color=color, label=label)\n",
    "\n",
    "ax.stackplot(trx_dataset_grouped_viz['minutes_since_midnight'], trx_dataset_grouped_viz['Q1'], trx_dataset_grouped_viz['Q1_Q2'], trx_dataset_grouped_viz['Q2_Q3'], \n",
    "             labels=[\"\", \"Q1 to Q2\", \"Q2 to Q3\"], colors=['none','skyblue', 'mediumseagreen'], edgecolor='none', alpha=0.8)\n",
    "\n",
    "# Formatting X-axis to show only hours\n",
    "ax.set_xticks(np.arange(0, 1381, 60))  # Tick every 60 minutes (every hour)\n",
    "ax.set_xticklabels(range(0, 24))  # Labels from 0 to 23 (only hours)\n",
    "\n",
    "# Labels and title\n",
    "ax.set_xlabel(\"UTC Hour\")\n",
    "ax.set_ylabel(\"1min Volume [BTC] quantiles\")\n",
    "ax.set_title(\"Bitstamp Interquartile Range (IQR) Over 24 Hours\")\n",
    "ax.legend()\n",
    "ax.grid(True)\n",
    "\n",
    "plt.show()"
   ]
  },
  {
   "cell_type": "markdown",
   "metadata": {},
   "source": [
    "### Distribution plot"
   ]
  },
  {
   "cell_type": "code",
   "execution_count": 34,
   "metadata": {},
   "outputs": [],
   "source": [
    "trx_dataset_grouped['deseasoned_total_volume']=trx_dataset_grouped['total_volume']"
   ]
  },
  {
   "cell_type": "code",
   "execution_count": 35,
   "metadata": {},
   "outputs": [
    {
     "name": "stdout",
     "output_type": "stream",
     "text": [
      "minimal volume after 0 is 8.6e-07 BTC\n",
      "!!!!! It is an open question how much to adjust the zero values to be inserted in the logarithm function. For now I choose 1e-7\n"
     ]
    }
   ],
   "source": [
    "print(f\"minimal volume after 0 is {trx_dataset_grouped.loc[trx_dataset_grouped['deseasoned_total_volume'] >0]['deseasoned_total_volume'].min()} BTC\")\n",
    "print(\"!!!!! It is an open question how much to adjust the zero values to be inserted in the logarithm function. For now I choose 1e-7\")"
   ]
  },
  {
   "cell_type": "code",
   "execution_count": 36,
   "metadata": {},
   "outputs": [],
   "source": [
    "trx_dataset_grouped['log_deseasoned_total_volume'] = np.log(trx_dataset_grouped['deseasoned_total_volume'] + 1e-7)"
   ]
  },
  {
   "cell_type": "code",
   "execution_count": 37,
   "metadata": {},
   "outputs": [
    {
     "data": {
      "text/plain": [
       "0"
      ]
     },
     "execution_count": 37,
     "metadata": {},
     "output_type": "execute_result"
    }
   ],
   "source": [
    "trx_dataset_grouped['log_deseasoned_total_volume']\n",
    "#dropna\n",
    "trx_dataset_grouped = trx_dataset_grouped.dropna()\n",
    "trx_dataset_grouped[\"deseasoned_total_volume\"].isna().sum()"
   ]
  },
  {
   "cell_type": "code",
   "execution_count": 38,
   "metadata": {},
   "outputs": [
    {
     "data": {
      "text/html": [
       "<div>\n",
       "<style scoped>\n",
       "    .dataframe tbody tr th:only-of-type {\n",
       "        vertical-align: middle;\n",
       "    }\n",
       "\n",
       "    .dataframe tbody tr th {\n",
       "        vertical-align: top;\n",
       "    }\n",
       "\n",
       "    .dataframe thead th {\n",
       "        text-align: right;\n",
       "    }\n",
       "</style>\n",
       "<table border=\"1\" class=\"dataframe\">\n",
       "  <thead>\n",
       "    <tr style=\"text-align: right;\">\n",
       "      <th></th>\n",
       "      <th>timestamp_id</th>\n",
       "      <th>datetime</th>\n",
       "      <th>first_price</th>\n",
       "      <th>last_price</th>\n",
       "      <th>max_price</th>\n",
       "      <th>min_price</th>\n",
       "      <th>buy_volume</th>\n",
       "      <th>sell_volume</th>\n",
       "      <th>total_volume</th>\n",
       "      <th>volume_imbalance_x</th>\n",
       "      <th>...</th>\n",
       "      <th>ask_slope_5pct</th>\n",
       "      <th>bid_slope_10pct</th>\n",
       "      <th>bid_slope_1pct</th>\n",
       "      <th>bid_slope_5pct</th>\n",
       "      <th>slope_imbalance_10pct</th>\n",
       "      <th>slope_imbalance_1pct</th>\n",
       "      <th>slope_imbalance_5pct</th>\n",
       "      <th>time</th>\n",
       "      <th>deseasoned_total_volume</th>\n",
       "      <th>log_deseasoned_total_volume</th>\n",
       "    </tr>\n",
       "  </thead>\n",
       "  <tbody>\n",
       "    <tr>\n",
       "      <th>0</th>\n",
       "      <td>1970-01-01 00:00:01.527800400</td>\n",
       "      <td>2018-05-31 21:00:00+00:00</td>\n",
       "      <td>7538.34</td>\n",
       "      <td>7542.01</td>\n",
       "      <td>7544.79</td>\n",
       "      <td>7531.36</td>\n",
       "      <td>18.203291</td>\n",
       "      <td>0.677437</td>\n",
       "      <td>18.880728</td>\n",
       "      <td>17.525854</td>\n",
       "      <td>...</td>\n",
       "      <td>709.102076</td>\n",
       "      <td>1528.213316</td>\n",
       "      <td>249.016349</td>\n",
       "      <td>841.627346</td>\n",
       "      <td>648.362222</td>\n",
       "      <td>92.507778</td>\n",
       "      <td>132.525270</td>\n",
       "      <td>21:00:00</td>\n",
       "      <td>18.880728</td>\n",
       "      <td>2.938142</td>\n",
       "    </tr>\n",
       "    <tr>\n",
       "      <th>1</th>\n",
       "      <td>1970-01-01 00:00:01.527800460</td>\n",
       "      <td>2018-05-31 21:01:00+00:00</td>\n",
       "      <td>7532.43</td>\n",
       "      <td>7539.40</td>\n",
       "      <td>7544.69</td>\n",
       "      <td>7530.81</td>\n",
       "      <td>0.218896</td>\n",
       "      <td>0.946981</td>\n",
       "      <td>1.165876</td>\n",
       "      <td>-0.728085</td>\n",
       "      <td>...</td>\n",
       "      <td>709.102076</td>\n",
       "      <td>1528.213316</td>\n",
       "      <td>249.016349</td>\n",
       "      <td>841.627346</td>\n",
       "      <td>648.362222</td>\n",
       "      <td>92.507778</td>\n",
       "      <td>132.525270</td>\n",
       "      <td>21:01:00</td>\n",
       "      <td>1.165876</td>\n",
       "      <td>0.153473</td>\n",
       "    </tr>\n",
       "    <tr>\n",
       "      <th>2</th>\n",
       "      <td>1970-01-01 00:00:01.527800520</td>\n",
       "      <td>2018-05-31 21:02:00+00:00</td>\n",
       "      <td>7535.01</td>\n",
       "      <td>7540.11</td>\n",
       "      <td>7540.11</td>\n",
       "      <td>7535.01</td>\n",
       "      <td>0.021258</td>\n",
       "      <td>0.011077</td>\n",
       "      <td>0.032336</td>\n",
       "      <td>0.010181</td>\n",
       "      <td>...</td>\n",
       "      <td>709.102076</td>\n",
       "      <td>1528.213316</td>\n",
       "      <td>249.016349</td>\n",
       "      <td>841.627346</td>\n",
       "      <td>648.362222</td>\n",
       "      <td>92.507778</td>\n",
       "      <td>132.525270</td>\n",
       "      <td>21:02:00</td>\n",
       "      <td>0.032336</td>\n",
       "      <td>-3.431573</td>\n",
       "    </tr>\n",
       "    <tr>\n",
       "      <th>3</th>\n",
       "      <td>1970-01-01 00:00:01.527800580</td>\n",
       "      <td>2018-05-31 21:03:00+00:00</td>\n",
       "      <td>7540.19</td>\n",
       "      <td>7540.00</td>\n",
       "      <td>7541.90</td>\n",
       "      <td>7535.01</td>\n",
       "      <td>0.143166</td>\n",
       "      <td>0.001062</td>\n",
       "      <td>0.144229</td>\n",
       "      <td>0.142104</td>\n",
       "      <td>...</td>\n",
       "      <td>709.102076</td>\n",
       "      <td>1528.213316</td>\n",
       "      <td>249.016349</td>\n",
       "      <td>841.627346</td>\n",
       "      <td>648.362222</td>\n",
       "      <td>92.507778</td>\n",
       "      <td>132.525270</td>\n",
       "      <td>21:03:00</td>\n",
       "      <td>0.144229</td>\n",
       "      <td>-1.936355</td>\n",
       "    </tr>\n",
       "    <tr>\n",
       "      <th>4</th>\n",
       "      <td>1970-01-01 00:00:01.527800640</td>\n",
       "      <td>2018-05-31 21:04:00+00:00</td>\n",
       "      <td>7541.00</td>\n",
       "      <td>7543.32</td>\n",
       "      <td>7543.32</td>\n",
       "      <td>7538.34</td>\n",
       "      <td>2.837166</td>\n",
       "      <td>0.000000</td>\n",
       "      <td>2.837166</td>\n",
       "      <td>2.837166</td>\n",
       "      <td>...</td>\n",
       "      <td>709.102076</td>\n",
       "      <td>1528.213316</td>\n",
       "      <td>249.016349</td>\n",
       "      <td>841.627346</td>\n",
       "      <td>648.362222</td>\n",
       "      <td>92.507778</td>\n",
       "      <td>132.525270</td>\n",
       "      <td>21:04:00</td>\n",
       "      <td>2.837166</td>\n",
       "      <td>1.042806</td>\n",
       "    </tr>\n",
       "    <tr>\n",
       "      <th>...</th>\n",
       "      <td>...</td>\n",
       "      <td>...</td>\n",
       "      <td>...</td>\n",
       "      <td>...</td>\n",
       "      <td>...</td>\n",
       "      <td>...</td>\n",
       "      <td>...</td>\n",
       "      <td>...</td>\n",
       "      <td>...</td>\n",
       "      <td>...</td>\n",
       "      <td>...</td>\n",
       "      <td>...</td>\n",
       "      <td>...</td>\n",
       "      <td>...</td>\n",
       "      <td>...</td>\n",
       "      <td>...</td>\n",
       "      <td>...</td>\n",
       "      <td>...</td>\n",
       "      <td>...</td>\n",
       "      <td>...</td>\n",
       "      <td>...</td>\n",
       "    </tr>\n",
       "    <tr>\n",
       "      <th>168738</th>\n",
       "      <td>1970-01-01 00:00:01.538344500</td>\n",
       "      <td>2018-09-30 21:55:00+00:00</td>\n",
       "      <td>6553.46</td>\n",
       "      <td>6554.33</td>\n",
       "      <td>6555.77</td>\n",
       "      <td>6553.44</td>\n",
       "      <td>1.310116</td>\n",
       "      <td>0.000000</td>\n",
       "      <td>1.310116</td>\n",
       "      <td>1.310116</td>\n",
       "      <td>...</td>\n",
       "      <td>1028.643470</td>\n",
       "      <td>1663.029639</td>\n",
       "      <td>235.813402</td>\n",
       "      <td>704.366480</td>\n",
       "      <td>322.422076</td>\n",
       "      <td>1.195367</td>\n",
       "      <td>324.276990</td>\n",
       "      <td>21:55:00</td>\n",
       "      <td>1.310116</td>\n",
       "      <td>0.270116</td>\n",
       "    </tr>\n",
       "    <tr>\n",
       "      <th>168739</th>\n",
       "      <td>1970-01-01 00:00:01.538344560</td>\n",
       "      <td>2018-09-30 21:56:00+00:00</td>\n",
       "      <td>6555.77</td>\n",
       "      <td>6554.20</td>\n",
       "      <td>6555.77</td>\n",
       "      <td>6554.20</td>\n",
       "      <td>0.134624</td>\n",
       "      <td>0.038058</td>\n",
       "      <td>0.172682</td>\n",
       "      <td>0.096565</td>\n",
       "      <td>...</td>\n",
       "      <td>1032.789759</td>\n",
       "      <td>1660.572572</td>\n",
       "      <td>232.846335</td>\n",
       "      <td>700.904624</td>\n",
       "      <td>319.568679</td>\n",
       "      <td>113.368165</td>\n",
       "      <td>331.885135</td>\n",
       "      <td>21:56:00</td>\n",
       "      <td>0.172682</td>\n",
       "      <td>-1.756304</td>\n",
       "    </tr>\n",
       "    <tr>\n",
       "      <th>168740</th>\n",
       "      <td>1970-01-01 00:00:01.538344620</td>\n",
       "      <td>2018-09-30 21:57:00+00:00</td>\n",
       "      <td>6555.75</td>\n",
       "      <td>6555.78</td>\n",
       "      <td>6555.79</td>\n",
       "      <td>6554.30</td>\n",
       "      <td>1.491747</td>\n",
       "      <td>0.038143</td>\n",
       "      <td>1.529890</td>\n",
       "      <td>1.453603</td>\n",
       "      <td>...</td>\n",
       "      <td>1028.985155</td>\n",
       "      <td>1660.949665</td>\n",
       "      <td>226.119244</td>\n",
       "      <td>702.255443</td>\n",
       "      <td>325.641642</td>\n",
       "      <td>119.372394</td>\n",
       "      <td>326.729711</td>\n",
       "      <td>21:57:00</td>\n",
       "      <td>1.529890</td>\n",
       "      <td>0.425196</td>\n",
       "    </tr>\n",
       "    <tr>\n",
       "      <th>168741</th>\n",
       "      <td>1970-01-01 00:00:01.538344680</td>\n",
       "      <td>2018-09-30 21:58:00+00:00</td>\n",
       "      <td>6555.00</td>\n",
       "      <td>6555.00</td>\n",
       "      <td>6555.76</td>\n",
       "      <td>6555.00</td>\n",
       "      <td>0.010576</td>\n",
       "      <td>0.924569</td>\n",
       "      <td>0.935145</td>\n",
       "      <td>-0.913993</td>\n",
       "      <td>...</td>\n",
       "      <td>1014.151773</td>\n",
       "      <td>1653.246750</td>\n",
       "      <td>224.596329</td>\n",
       "      <td>694.552529</td>\n",
       "      <td>332.772109</td>\n",
       "      <td>120.541927</td>\n",
       "      <td>319.599244</td>\n",
       "      <td>21:58:00</td>\n",
       "      <td>0.935145</td>\n",
       "      <td>-0.067054</td>\n",
       "    </tr>\n",
       "    <tr>\n",
       "      <th>168742</th>\n",
       "      <td>1970-01-01 00:00:01.538344740</td>\n",
       "      <td>2018-09-30 21:59:00+00:00</td>\n",
       "      <td>6555.73</td>\n",
       "      <td>6555.74</td>\n",
       "      <td>6555.78</td>\n",
       "      <td>6555.73</td>\n",
       "      <td>0.983765</td>\n",
       "      <td>0.000000</td>\n",
       "      <td>0.983765</td>\n",
       "      <td>0.983765</td>\n",
       "      <td>...</td>\n",
       "      <td>988.045254</td>\n",
       "      <td>1628.085949</td>\n",
       "      <td>225.528328</td>\n",
       "      <td>669.391727</td>\n",
       "      <td>334.717827</td>\n",
       "      <td>109.802410</td>\n",
       "      <td>318.653527</td>\n",
       "      <td>21:59:00</td>\n",
       "      <td>0.983765</td>\n",
       "      <td>-0.016368</td>\n",
       "    </tr>\n",
       "  </tbody>\n",
       "</table>\n",
       "<p>168743 rows × 31 columns</p>\n",
       "</div>"
      ],
      "text/plain": [
       "                        timestamp_id                  datetime  first_price  \\\n",
       "0      1970-01-01 00:00:01.527800400 2018-05-31 21:00:00+00:00      7538.34   \n",
       "1      1970-01-01 00:00:01.527800460 2018-05-31 21:01:00+00:00      7532.43   \n",
       "2      1970-01-01 00:00:01.527800520 2018-05-31 21:02:00+00:00      7535.01   \n",
       "3      1970-01-01 00:00:01.527800580 2018-05-31 21:03:00+00:00      7540.19   \n",
       "4      1970-01-01 00:00:01.527800640 2018-05-31 21:04:00+00:00      7541.00   \n",
       "...                              ...                       ...          ...   \n",
       "168738 1970-01-01 00:00:01.538344500 2018-09-30 21:55:00+00:00      6553.46   \n",
       "168739 1970-01-01 00:00:01.538344560 2018-09-30 21:56:00+00:00      6555.77   \n",
       "168740 1970-01-01 00:00:01.538344620 2018-09-30 21:57:00+00:00      6555.75   \n",
       "168741 1970-01-01 00:00:01.538344680 2018-09-30 21:58:00+00:00      6555.00   \n",
       "168742 1970-01-01 00:00:01.538344740 2018-09-30 21:59:00+00:00      6555.73   \n",
       "\n",
       "        last_price  max_price  min_price  buy_volume  sell_volume  \\\n",
       "0          7542.01    7544.79    7531.36   18.203291     0.677437   \n",
       "1          7539.40    7544.69    7530.81    0.218896     0.946981   \n",
       "2          7540.11    7540.11    7535.01    0.021258     0.011077   \n",
       "3          7540.00    7541.90    7535.01    0.143166     0.001062   \n",
       "4          7543.32    7543.32    7538.34    2.837166     0.000000   \n",
       "...            ...        ...        ...         ...          ...   \n",
       "168738     6554.33    6555.77    6553.44    1.310116     0.000000   \n",
       "168739     6554.20    6555.77    6554.20    0.134624     0.038058   \n",
       "168740     6555.78    6555.79    6554.30    1.491747     0.038143   \n",
       "168741     6555.00    6555.76    6555.00    0.010576     0.924569   \n",
       "168742     6555.74    6555.78    6555.73    0.983765     0.000000   \n",
       "\n",
       "        total_volume  volume_imbalance_x  ...  ask_slope_5pct  \\\n",
       "0          18.880728           17.525854  ...      709.102076   \n",
       "1           1.165876           -0.728085  ...      709.102076   \n",
       "2           0.032336            0.010181  ...      709.102076   \n",
       "3           0.144229            0.142104  ...      709.102076   \n",
       "4           2.837166            2.837166  ...      709.102076   \n",
       "...              ...                 ...  ...             ...   \n",
       "168738      1.310116            1.310116  ...     1028.643470   \n",
       "168739      0.172682            0.096565  ...     1032.789759   \n",
       "168740      1.529890            1.453603  ...     1028.985155   \n",
       "168741      0.935145           -0.913993  ...     1014.151773   \n",
       "168742      0.983765            0.983765  ...      988.045254   \n",
       "\n",
       "        bid_slope_10pct  bid_slope_1pct bid_slope_5pct  slope_imbalance_10pct  \\\n",
       "0           1528.213316      249.016349     841.627346             648.362222   \n",
       "1           1528.213316      249.016349     841.627346             648.362222   \n",
       "2           1528.213316      249.016349     841.627346             648.362222   \n",
       "3           1528.213316      249.016349     841.627346             648.362222   \n",
       "4           1528.213316      249.016349     841.627346             648.362222   \n",
       "...                 ...             ...            ...                    ...   \n",
       "168738      1663.029639      235.813402     704.366480             322.422076   \n",
       "168739      1660.572572      232.846335     700.904624             319.568679   \n",
       "168740      1660.949665      226.119244     702.255443             325.641642   \n",
       "168741      1653.246750      224.596329     694.552529             332.772109   \n",
       "168742      1628.085949      225.528328     669.391727             334.717827   \n",
       "\n",
       "        slope_imbalance_1pct  slope_imbalance_5pct      time  \\\n",
       "0                  92.507778            132.525270  21:00:00   \n",
       "1                  92.507778            132.525270  21:01:00   \n",
       "2                  92.507778            132.525270  21:02:00   \n",
       "3                  92.507778            132.525270  21:03:00   \n",
       "4                  92.507778            132.525270  21:04:00   \n",
       "...                      ...                   ...       ...   \n",
       "168738              1.195367            324.276990  21:55:00   \n",
       "168739            113.368165            331.885135  21:56:00   \n",
       "168740            119.372394            326.729711  21:57:00   \n",
       "168741            120.541927            319.599244  21:58:00   \n",
       "168742            109.802410            318.653527  21:59:00   \n",
       "\n",
       "        deseasoned_total_volume  log_deseasoned_total_volume  \n",
       "0                     18.880728                     2.938142  \n",
       "1                      1.165876                     0.153473  \n",
       "2                      0.032336                    -3.431573  \n",
       "3                      0.144229                    -1.936355  \n",
       "4                      2.837166                     1.042806  \n",
       "...                         ...                          ...  \n",
       "168738                 1.310116                     0.270116  \n",
       "168739                 0.172682                    -1.756304  \n",
       "168740                 1.529890                     0.425196  \n",
       "168741                 0.935145                    -0.067054  \n",
       "168742                 0.983765                    -0.016368  \n",
       "\n",
       "[168743 rows x 31 columns]"
      ]
     },
     "execution_count": 38,
     "metadata": {},
     "output_type": "execute_result"
    }
   ],
   "source": [
    "trx_dataset_grouped\n"
   ]
  },
  {
   "cell_type": "code",
   "execution_count": 39,
   "metadata": {},
   "outputs": [
    {
     "name": "stdout",
     "output_type": "stream",
     "text": [
      "DataFrame shape: (168743, 31)\n",
      "Columns: Index(['timestamp_id', 'datetime', 'first_price', 'last_price', 'max_price',\n",
      "       'min_price', 'buy_volume', 'sell_volume', 'total_volume',\n",
      "       'volume_imbalance_x', 'buy_transactions', 'sell_transactions',\n",
      "       'transaction_imbalance', 'datetime_y', 'mid_price', 'spread',\n",
      "       'ask_volume', 'bid_volume', 'volume_imbalance_y', 'ask_slope_10pct',\n",
      "       'ask_slope_1pct', 'ask_slope_5pct', 'bid_slope_10pct', 'bid_slope_1pct',\n",
      "       'bid_slope_5pct', 'slope_imbalance_10pct', 'slope_imbalance_1pct',\n",
      "       'slope_imbalance_5pct', 'time', 'deseasoned_total_volume',\n",
      "       'log_deseasoned_total_volume'],\n",
      "      dtype='object')\n",
      "NaN count in log_deseasoned_total_volume: 0\n",
      "Sample of log_deseasoned_total_volume:\n",
      "0    2.938142\n",
      "1    0.153473\n",
      "2   -3.431573\n",
      "3   -1.936355\n",
      "4    1.042806\n",
      "Name: log_deseasoned_total_volume, dtype: float64\n"
     ]
    },
    {
     "data": {
      "image/png": "[encoded data removed]",
      "text/plain": [
       "<Figure size 1000x600 with 1 Axes>"
      ]
     },
     "metadata": {},
     "output_type": "display_data"
    }
   ],
   "source": [
    "import pandas as pd\n",
    "import numpy as np\n",
    "import matplotlib.pyplot as plt\n",
    "\n",
    "\n",
    "# Verify the DataFrame\n",
    "print(\"DataFrame shape:\", trx_dataset_grouped.shape)\n",
    "print(\"Columns:\", trx_dataset_grouped.columns)\n",
    "print(\"NaN count in log_deseasoned_total_volume:\", trx_dataset_grouped['log_deseasoned_total_volume'].isnull().sum())\n",
    "print(\"Sample of log_deseasoned_total_volume:\")\n",
    "print(trx_dataset_grouped['log_deseasoned_total_volume'].head())\n",
    "\n",
    "# Plot histogram\n",
    "plt.figure(figsize=(10, 6))\n",
    "plt.hist(trx_dataset_grouped['log_deseasoned_total_volume'], bins=300, color='skyblue', edgecolor='none')\n",
    "plt.xlim(-2, 4)  # Adjusted based on data range (-0.4 to 3.3)\n",
    "plt.ylim(0, 30)  # Adjusted based on expected frequency with 296 rows\n",
    "plt.title(\"Histogram of Bitstamp Log-Transformed Deseasoned Total Volume\")\n",
    "plt.xlabel(\"Log Volume [BTC]\")\n",
    "plt.ylabel(\"Count\")\n",
    "plt.grid(True)\n",
    "plt.show()"
   ]
  },
  {
   "cell_type": "code",
   "execution_count": 40,
   "metadata": {},
   "outputs": [],
   "source": [
    "#create log volume column\n",
    "\n",
    "trx_dataset_grouped['log_total_volume'] = np.log(trx_dataset_grouped['total_volume'] + 1e-7)"
   ]
  },
  {
   "cell_type": "code",
   "execution_count": 50,
   "metadata": {},
   "outputs": [
    {
     "data": {
      "image/png": "[encoded data removed]",
      "text/plain": [
       "<Figure size 1000x600 with 1 Axes>"
      ]
     },
     "metadata": {},
     "output_type": "display_data"
    }
   ],
   "source": [
    "import pandas as pd\n",
    "import numpy as np\n",
    "import matplotlib.pyplot as plt\n",
    "\n",
    "\n",
    "# Plot histogram\n",
    "plt.figure(figsize=(10, 6))\n",
    "plt.hist(trx_dataset_grouped['log_total_volume'], bins=300, color='skyblue', edgecolor='none')\n",
    "plt.xlim(-20, 10)  # Adjusted based on data range (-0.4 to 3.3)\n",
    "plt.ylim(0, 9950)  # Adjusted based on expected frequency with 296 rows\n",
    "plt.title(\"Histogram of Bitstamp Log-Transformed Deseasoned Total Volume\")\n",
    "plt.xlabel(\"Log Volume [BTC]\")\n",
    "plt.ylabel(\"Count\")\n",
    "plt.grid(True)\n",
    "plt.show()"
   ]
  },
  {
   "cell_type": "code",
   "execution_count": 42,
   "metadata": {},
   "outputs": [
    {
     "name": "stdout",
     "output_type": "stream",
     "text": [
      "Mean: 0.03402309850561889\n",
      "Variance: 4.6052553609737945\n",
      "Skewness: -0.6167279646554705\n",
      "Kurtosis: 0.42249985600715556\n"
     ]
    }
   ],
   "source": [
    "# Calculate mean, variance, skewness, and kurtosis of the 'volume' column\n",
    "mean_volume = trx_dataset_grouped['log_deseasoned_total_volume'].mean()\n",
    "variance_volume = trx_dataset_grouped['log_deseasoned_total_volume'].var()\n",
    "skewness_volume = stats.skew(trx_dataset_grouped['log_deseasoned_total_volume'])\n",
    "kurtosis_volume = stats.kurtosis(trx_dataset_grouped['log_deseasoned_total_volume'])\n",
    "\n",
    "# Display the results\n",
    "print(f\"Mean: {mean_volume}\")\n",
    "print(f\"Variance: {variance_volume}\")\n",
    "print(f\"Skewness: {skewness_volume}\")\n",
    "print(f\"Kurtosis: {kurtosis_volume}\")"
   ]
  },
  {
   "cell_type": "code",
   "execution_count": 43,
   "metadata": {},
   "outputs": [
    {
     "data": {
      "text/html": [
       "<div>\n",
       "<style scoped>\n",
       "    .dataframe tbody tr th:only-of-type {\n",
       "        vertical-align: middle;\n",
       "    }\n",
       "\n",
       "    .dataframe tbody tr th {\n",
       "        vertical-align: top;\n",
       "    }\n",
       "\n",
       "    .dataframe thead th {\n",
       "        text-align: right;\n",
       "    }\n",
       "</style>\n",
       "<table border=\"1\" class=\"dataframe\">\n",
       "  <thead>\n",
       "    <tr style=\"text-align: right;\">\n",
       "      <th></th>\n",
       "      <th>timestamp_id</th>\n",
       "      <th>datetime</th>\n",
       "      <th>first_price</th>\n",
       "      <th>last_price</th>\n",
       "      <th>max_price</th>\n",
       "      <th>min_price</th>\n",
       "      <th>buy_volume</th>\n",
       "      <th>sell_volume</th>\n",
       "      <th>total_volume</th>\n",
       "      <th>volume_imbalance_x</th>\n",
       "      <th>...</th>\n",
       "      <th>bid_slope_10pct</th>\n",
       "      <th>bid_slope_1pct</th>\n",
       "      <th>bid_slope_5pct</th>\n",
       "      <th>slope_imbalance_10pct</th>\n",
       "      <th>slope_imbalance_1pct</th>\n",
       "      <th>slope_imbalance_5pct</th>\n",
       "      <th>time</th>\n",
       "      <th>deseasoned_total_volume</th>\n",
       "      <th>log_deseasoned_total_volume</th>\n",
       "      <th>log_total_volume</th>\n",
       "    </tr>\n",
       "  </thead>\n",
       "  <tbody>\n",
       "    <tr>\n",
       "      <th>0</th>\n",
       "      <td>1970-01-01 00:00:01.527800400</td>\n",
       "      <td>2018-05-31 21:00:00+00:00</td>\n",
       "      <td>7538.34</td>\n",
       "      <td>7542.01</td>\n",
       "      <td>7544.79</td>\n",
       "      <td>7531.36</td>\n",
       "      <td>18.203291</td>\n",
       "      <td>0.677437</td>\n",
       "      <td>18.880728</td>\n",
       "      <td>17.525854</td>\n",
       "      <td>...</td>\n",
       "      <td>1528.213316</td>\n",
       "      <td>249.016349</td>\n",
       "      <td>841.627346</td>\n",
       "      <td>648.362222</td>\n",
       "      <td>92.507778</td>\n",
       "      <td>132.52527</td>\n",
       "      <td>21:00:00</td>\n",
       "      <td>18.880728</td>\n",
       "      <td>2.938142</td>\n",
       "      <td>2.938142</td>\n",
       "    </tr>\n",
       "    <tr>\n",
       "      <th>1</th>\n",
       "      <td>1970-01-01 00:00:01.527800460</td>\n",
       "      <td>2018-05-31 21:01:00+00:00</td>\n",
       "      <td>7532.43</td>\n",
       "      <td>7539.40</td>\n",
       "      <td>7544.69</td>\n",
       "      <td>7530.81</td>\n",
       "      <td>0.218896</td>\n",
       "      <td>0.946981</td>\n",
       "      <td>1.165876</td>\n",
       "      <td>-0.728085</td>\n",
       "      <td>...</td>\n",
       "      <td>1528.213316</td>\n",
       "      <td>249.016349</td>\n",
       "      <td>841.627346</td>\n",
       "      <td>648.362222</td>\n",
       "      <td>92.507778</td>\n",
       "      <td>132.52527</td>\n",
       "      <td>21:01:00</td>\n",
       "      <td>1.165876</td>\n",
       "      <td>0.153473</td>\n",
       "      <td>0.153473</td>\n",
       "    </tr>\n",
       "    <tr>\n",
       "      <th>2</th>\n",
       "      <td>1970-01-01 00:00:01.527800520</td>\n",
       "      <td>2018-05-31 21:02:00+00:00</td>\n",
       "      <td>7535.01</td>\n",
       "      <td>7540.11</td>\n",
       "      <td>7540.11</td>\n",
       "      <td>7535.01</td>\n",
       "      <td>0.021258</td>\n",
       "      <td>0.011077</td>\n",
       "      <td>0.032336</td>\n",
       "      <td>0.010181</td>\n",
       "      <td>...</td>\n",
       "      <td>1528.213316</td>\n",
       "      <td>249.016349</td>\n",
       "      <td>841.627346</td>\n",
       "      <td>648.362222</td>\n",
       "      <td>92.507778</td>\n",
       "      <td>132.52527</td>\n",
       "      <td>21:02:00</td>\n",
       "      <td>0.032336</td>\n",
       "      <td>-3.431573</td>\n",
       "      <td>-3.431573</td>\n",
       "    </tr>\n",
       "    <tr>\n",
       "      <th>3</th>\n",
       "      <td>1970-01-01 00:00:01.527800580</td>\n",
       "      <td>2018-05-31 21:03:00+00:00</td>\n",
       "      <td>7540.19</td>\n",
       "      <td>7540.00</td>\n",
       "      <td>7541.90</td>\n",
       "      <td>7535.01</td>\n",
       "      <td>0.143166</td>\n",
       "      <td>0.001062</td>\n",
       "      <td>0.144229</td>\n",
       "      <td>0.142104</td>\n",
       "      <td>...</td>\n",
       "      <td>1528.213316</td>\n",
       "      <td>249.016349</td>\n",
       "      <td>841.627346</td>\n",
       "      <td>648.362222</td>\n",
       "      <td>92.507778</td>\n",
       "      <td>132.52527</td>\n",
       "      <td>21:03:00</td>\n",
       "      <td>0.144229</td>\n",
       "      <td>-1.936355</td>\n",
       "      <td>-1.936355</td>\n",
       "    </tr>\n",
       "    <tr>\n",
       "      <th>4</th>\n",
       "      <td>1970-01-01 00:00:01.527800640</td>\n",
       "      <td>2018-05-31 21:04:00+00:00</td>\n",
       "      <td>7541.00</td>\n",
       "      <td>7543.32</td>\n",
       "      <td>7543.32</td>\n",
       "      <td>7538.34</td>\n",
       "      <td>2.837166</td>\n",
       "      <td>0.000000</td>\n",
       "      <td>2.837166</td>\n",
       "      <td>2.837166</td>\n",
       "      <td>...</td>\n",
       "      <td>1528.213316</td>\n",
       "      <td>249.016349</td>\n",
       "      <td>841.627346</td>\n",
       "      <td>648.362222</td>\n",
       "      <td>92.507778</td>\n",
       "      <td>132.52527</td>\n",
       "      <td>21:04:00</td>\n",
       "      <td>2.837166</td>\n",
       "      <td>1.042806</td>\n",
       "      <td>1.042806</td>\n",
       "    </tr>\n",
       "  </tbody>\n",
       "</table>\n",
       "<p>5 rows × 32 columns</p>\n",
       "</div>"
      ],
      "text/plain": [
       "                   timestamp_id                  datetime  first_price  \\\n",
       "0 1970-01-01 00:00:01.527800400 2018-05-31 21:00:00+00:00      7538.34   \n",
       "1 1970-01-01 00:00:01.527800460 2018-05-31 21:01:00+00:00      7532.43   \n",
       "2 1970-01-01 00:00:01.527800520 2018-05-31 21:02:00+00:00      7535.01   \n",
       "3 1970-01-01 00:00:01.527800580 2018-05-31 21:03:00+00:00      7540.19   \n",
       "4 1970-01-01 00:00:01.527800640 2018-05-31 21:04:00+00:00      7541.00   \n",
       "\n",
       "   last_price  max_price  min_price  buy_volume  sell_volume  total_volume  \\\n",
       "0     7542.01    7544.79    7531.36   18.203291     0.677437     18.880728   \n",
       "1     7539.40    7544.69    7530.81    0.218896     0.946981      1.165876   \n",
       "2     7540.11    7540.11    7535.01    0.021258     0.011077      0.032336   \n",
       "3     7540.00    7541.90    7535.01    0.143166     0.001062      0.144229   \n",
       "4     7543.32    7543.32    7538.34    2.837166     0.000000      2.837166   \n",
       "\n",
       "   volume_imbalance_x  ...  bid_slope_10pct  bid_slope_1pct  bid_slope_5pct  \\\n",
       "0           17.525854  ...      1528.213316      249.016349      841.627346   \n",
       "1           -0.728085  ...      1528.213316      249.016349      841.627346   \n",
       "2            0.010181  ...      1528.213316      249.016349      841.627346   \n",
       "3            0.142104  ...      1528.213316      249.016349      841.627346   \n",
       "4            2.837166  ...      1528.213316      249.016349      841.627346   \n",
       "\n",
       "  slope_imbalance_10pct  slope_imbalance_1pct  slope_imbalance_5pct      time  \\\n",
       "0            648.362222             92.507778             132.52527  21:00:00   \n",
       "1            648.362222             92.507778             132.52527  21:01:00   \n",
       "2            648.362222             92.507778             132.52527  21:02:00   \n",
       "3            648.362222             92.507778             132.52527  21:03:00   \n",
       "4            648.362222             92.507778             132.52527  21:04:00   \n",
       "\n",
       "   deseasoned_total_volume  log_deseasoned_total_volume  log_total_volume  \n",
       "0                18.880728                     2.938142          2.938142  \n",
       "1                 1.165876                     0.153473          0.153473  \n",
       "2                 0.032336                    -3.431573         -3.431573  \n",
       "3                 0.144229                    -1.936355         -1.936355  \n",
       "4                 2.837166                     1.042806          1.042806  \n",
       "\n",
       "[5 rows x 32 columns]"
      ]
     },
     "execution_count": 43,
     "metadata": {},
     "output_type": "execute_result"
    }
   ],
   "source": [
    "trx_dataset_grouped.head()"
   ]
  },
  {
   "cell_type": "markdown",
   "metadata": {},
   "source": [
    "### ACF and PACF"
   ]
  },
  {
   "cell_type": "code",
   "execution_count": 44,
   "metadata": {},
   "outputs": [
    {
     "data": {
      "image/png": "[encoded data removed]",
      "text/plain": [
       "<Figure size 640x480 with 1 Axes>"
      ]
     },
     "metadata": {},
     "output_type": "display_data"
    },
    {
     "data": {
      "image/png": "[encoded data removed]",
      "text/plain": [
       "<Figure size 640x480 with 1 Axes>"
      ]
     },
     "metadata": {},
     "output_type": "display_data"
    }
   ],
   "source": [
    "plot_acf(trx_dataset_grouped['log_deseasoned_total_volume']);\n",
    "plot_pacf(trx_dataset_grouped['log_deseasoned_total_volume']);"
   ]
  },
  {
   "cell_type": "markdown",
   "metadata": {},
   "source": [
    "### LOB data"
   ]
  },
  {
   "cell_type": "markdown",
   "metadata": {},
   "source": [
    "#### Example of loading"
   ]
  },
  {
   "cell_type": "code",
   "execution_count": 45,
   "metadata": {},
   "outputs": [
    {
     "ename": "NameError",
     "evalue": "name 'create_lob_dataset' is not defined",
     "output_type": "error",
     "traceback": [
      "\u001b[1;31m---------------------------------------------------------------------------\u001b[0m",
      "\u001b[1;31mNameError\u001b[0m                                 Traceback (most recent call last)",
      "Cell \u001b[1;32mIn[45], line 1\u001b[0m\n\u001b[1;32m----> 1\u001b[0m lob_df \u001b[38;5;241m=\u001b[39m \u001b[43mcreate_lob_dataset\u001b[49m(use_load\u001b[38;5;241m=\u001b[39m\u001b[38;5;28;01mFalse\u001b[39;00m)\n\u001b[0;32m      2\u001b[0m lob_df\u001b[38;5;241m.\u001b[39mhead()\n",
      "\u001b[1;31mNameError\u001b[0m: name 'create_lob_dataset' is not defined"
     ]
    }
   ],
   "source": [
    "lob_df = create_lob_dataset(use_load=False)\n",
    "lob_df.head()"
   ]
  },
  {
   "cell_type": "markdown",
   "metadata": {},
   "source": [
    "## Playground for future (Irrelevant), You can ignore what's below"
   ]
  },
  {
   "cell_type": "code",
   "execution_count": null,
   "metadata": {},
   "outputs": [],
   "source": []
  },
  {
   "cell_type": "code",
   "execution_count": null,
   "metadata": {},
   "outputs": [
    {
     "data": {
      "application/vnd.jupyter.widget-view+json": {
       "model_id": "a54c8220fc134d51a6eb6ea382a93fff",
       "version_major": 2,
       "version_minor": 0
      },
      "text/plain": [
       "Generating train split: 0 examples [00:00, ? examples/s]"
      ]
     },
     "metadata": {},
     "output_type": "display_data"
    }
   ],
   "source": [
    "single_file_ob_dataset = [\"./data/bitstamp_ob_04_07_2018.zip\"]\n",
    "lob_dataset = load_dataset(\"csv\", data_files=single_file_ob_dataset)"
   ]
  },
  {
   "cell_type": "code",
   "execution_count": null,
   "metadata": {},
   "outputs": [
    {
     "data": {
      "text/plain": [
       "DatasetDict({\n",
       "    train: Dataset({\n",
       "        features: ['time', 'type', 'price', 'amount '],\n",
       "        num_rows: 24084011\n",
       "    })\n",
       "})"
      ]
     },
     "execution_count": 17,
     "metadata": {},
     "output_type": "execute_result"
    }
   ],
   "source": [
    "lob_dataset"
   ]
  },
  {
   "cell_type": "code",
   "execution_count": null,
   "metadata": {},
   "outputs": [
    {
     "data": {
      "text/html": [
       "<div>\n",
       "<style scoped>\n",
       "    .dataframe tbody tr th:only-of-type {\n",
       "        vertical-align: middle;\n",
       "    }\n",
       "\n",
       "    .dataframe tbody tr th {\n",
       "        vertical-align: top;\n",
       "    }\n",
       "\n",
       "    .dataframe thead th {\n",
       "        text-align: right;\n",
       "    }\n",
       "</style>\n",
       "<table border=\"1\" class=\"dataframe\">\n",
       "  <thead>\n",
       "    <tr style=\"text-align: right;\">\n",
       "      <th></th>\n",
       "      <th>type</th>\n",
       "      <th>price</th>\n",
       "      <th>amount</th>\n",
       "      <th>datetime</th>\n",
       "    </tr>\n",
       "  </thead>\n",
       "  <tbody>\n",
       "    <tr>\n",
       "      <th>0</th>\n",
       "      <td>b</td>\n",
       "      <td>6613.32</td>\n",
       "      <td>0.068823</td>\n",
       "      <td>2018-07-03 22:00:01+00:00</td>\n",
       "    </tr>\n",
       "    <tr>\n",
       "      <th>1</th>\n",
       "      <td>b</td>\n",
       "      <td>6613.31</td>\n",
       "      <td>3.709311</td>\n",
       "      <td>2018-07-03 22:00:01+00:00</td>\n",
       "    </tr>\n",
       "    <tr>\n",
       "      <th>2</th>\n",
       "      <td>b</td>\n",
       "      <td>6608.79</td>\n",
       "      <td>0.015000</td>\n",
       "      <td>2018-07-03 22:00:01+00:00</td>\n",
       "    </tr>\n",
       "    <tr>\n",
       "      <th>3</th>\n",
       "      <td>b</td>\n",
       "      <td>6608.78</td>\n",
       "      <td>1.000000</td>\n",
       "      <td>2018-07-03 22:00:01+00:00</td>\n",
       "    </tr>\n",
       "    <tr>\n",
       "      <th>4</th>\n",
       "      <td>b</td>\n",
       "      <td>6608.77</td>\n",
       "      <td>1.911835</td>\n",
       "      <td>2018-07-03 22:00:01+00:00</td>\n",
       "    </tr>\n",
       "  </tbody>\n",
       "</table>\n",
       "</div>"
      ],
      "text/plain": [
       "  type    price    amount                  datetime\n",
       "0    b  6613.32  0.068823 2018-07-03 22:00:01+00:00\n",
       "1    b  6613.31  3.709311 2018-07-03 22:00:01+00:00\n",
       "2    b  6608.79  0.015000 2018-07-03 22:00:01+00:00\n",
       "3    b  6608.78  1.000000 2018-07-03 22:00:01+00:00\n",
       "4    b  6608.77  1.911835 2018-07-03 22:00:01+00:00"
      ]
     },
     "execution_count": 28,
     "metadata": {},
     "output_type": "execute_result"
    }
   ],
   "source": [
    "lob_dataset = lob_dataset['train'].to_pandas()\n",
    "lob_dataset['datetime'] = pd.to_datetime(lob_dataset['time'], unit='s', utc=True)\n",
    "lob_dataset.drop(['time'], axis=1, inplace = True)\n",
    "lob_dataset.rename({col:col.strip() for col in lob_dataset.columns}, axis=1, inplace=True)\n",
    "lob_dataset.head()\n"
   ]
  },
  {
   "cell_type": "code",
   "execution_count": null,
   "metadata": {},
   "outputs": [],
   "source": []
  },
  {
   "cell_type": "markdown",
   "metadata": {},
   "source": [
    "### Playground for future LOB feature creation"
   ]
  },
  {
   "cell_type": "code",
   "execution_count": null,
   "metadata": {},
   "outputs": [
    {
     "data": {
      "text/html": [
       "<div>\n",
       "<style scoped>\n",
       "    .dataframe tbody tr th:only-of-type {\n",
       "        vertical-align: middle;\n",
       "    }\n",
       "\n",
       "    .dataframe tbody tr th {\n",
       "        vertical-align: top;\n",
       "    }\n",
       "\n",
       "    .dataframe thead th {\n",
       "        text-align: right;\n",
       "    }\n",
       "</style>\n",
       "<table border=\"1\" class=\"dataframe\">\n",
       "  <thead>\n",
       "    <tr style=\"text-align: right;\">\n",
       "      <th></th>\n",
       "      <th>type</th>\n",
       "      <th>price</th>\n",
       "      <th>amount</th>\n",
       "      <th>datetime</th>\n",
       "    </tr>\n",
       "  </thead>\n",
       "  <tbody>\n",
       "    <tr>\n",
       "      <th>0</th>\n",
       "      <td>b</td>\n",
       "      <td>100</td>\n",
       "      <td>10</td>\n",
       "      <td>2024-03-04 22:31:01</td>\n",
       "    </tr>\n",
       "    <tr>\n",
       "      <th>1</th>\n",
       "      <td>b</td>\n",
       "      <td>101</td>\n",
       "      <td>5</td>\n",
       "      <td>2024-03-04 22:31:01</td>\n",
       "    </tr>\n",
       "    <tr>\n",
       "      <th>2</th>\n",
       "      <td>b</td>\n",
       "      <td>102</td>\n",
       "      <td>8</td>\n",
       "      <td>2024-03-04 22:31:01</td>\n",
       "    </tr>\n",
       "    <tr>\n",
       "      <th>3</th>\n",
       "      <td>b</td>\n",
       "      <td>103</td>\n",
       "      <td>10</td>\n",
       "      <td>2024-03-04 22:31:01</td>\n",
       "    </tr>\n",
       "    <tr>\n",
       "      <th>4</th>\n",
       "      <td>b</td>\n",
       "      <td>104</td>\n",
       "      <td>17</td>\n",
       "      <td>2024-03-04 22:31:01</td>\n",
       "    </tr>\n",
       "    <tr>\n",
       "      <th>5</th>\n",
       "      <td>a</td>\n",
       "      <td>105</td>\n",
       "      <td>15</td>\n",
       "      <td>2024-03-04 22:31:01</td>\n",
       "    </tr>\n",
       "    <tr>\n",
       "      <th>6</th>\n",
       "      <td>a</td>\n",
       "      <td>107</td>\n",
       "      <td>12</td>\n",
       "      <td>2024-03-04 22:31:01</td>\n",
       "    </tr>\n",
       "    <tr>\n",
       "      <th>7</th>\n",
       "      <td>a</td>\n",
       "      <td>108</td>\n",
       "      <td>8</td>\n",
       "      <td>2024-03-04 22:31:01</td>\n",
       "    </tr>\n",
       "    <tr>\n",
       "      <th>8</th>\n",
       "      <td>a</td>\n",
       "      <td>109</td>\n",
       "      <td>12</td>\n",
       "      <td>2024-03-04 22:31:01</td>\n",
       "    </tr>\n",
       "    <tr>\n",
       "      <th>9</th>\n",
       "      <td>a</td>\n",
       "      <td>110</td>\n",
       "      <td>33</td>\n",
       "      <td>2024-03-04 22:31:01</td>\n",
       "    </tr>\n",
       "    <tr>\n",
       "      <th>10</th>\n",
       "      <td>b</td>\n",
       "      <td>100</td>\n",
       "      <td>10</td>\n",
       "      <td>2024-03-04 22:32:01</td>\n",
       "    </tr>\n",
       "    <tr>\n",
       "      <th>11</th>\n",
       "      <td>b</td>\n",
       "      <td>101</td>\n",
       "      <td>5</td>\n",
       "      <td>2024-03-04 22:32:01</td>\n",
       "    </tr>\n",
       "    <tr>\n",
       "      <th>12</th>\n",
       "      <td>b</td>\n",
       "      <td>102</td>\n",
       "      <td>8</td>\n",
       "      <td>2024-03-04 22:32:01</td>\n",
       "    </tr>\n",
       "    <tr>\n",
       "      <th>13</th>\n",
       "      <td>b</td>\n",
       "      <td>103</td>\n",
       "      <td>10</td>\n",
       "      <td>2024-03-04 22:32:01</td>\n",
       "    </tr>\n",
       "    <tr>\n",
       "      <th>14</th>\n",
       "      <td>b</td>\n",
       "      <td>104</td>\n",
       "      <td>17</td>\n",
       "      <td>2024-03-04 22:32:01</td>\n",
       "    </tr>\n",
       "    <tr>\n",
       "      <th>15</th>\n",
       "      <td>a</td>\n",
       "      <td>105</td>\n",
       "      <td>15</td>\n",
       "      <td>2024-03-04 22:32:01</td>\n",
       "    </tr>\n",
       "    <tr>\n",
       "      <th>16</th>\n",
       "      <td>a</td>\n",
       "      <td>107</td>\n",
       "      <td>12</td>\n",
       "      <td>2024-03-04 22:32:01</td>\n",
       "    </tr>\n",
       "    <tr>\n",
       "      <th>17</th>\n",
       "      <td>a</td>\n",
       "      <td>108</td>\n",
       "      <td>8</td>\n",
       "      <td>2024-03-04 22:32:01</td>\n",
       "    </tr>\n",
       "    <tr>\n",
       "      <th>18</th>\n",
       "      <td>a</td>\n",
       "      <td>109</td>\n",
       "      <td>12</td>\n",
       "      <td>2024-03-04 22:32:01</td>\n",
       "    </tr>\n",
       "    <tr>\n",
       "      <th>19</th>\n",
       "      <td>a</td>\n",
       "      <td>110</td>\n",
       "      <td>33</td>\n",
       "      <td>2024-03-04 22:32:01</td>\n",
       "    </tr>\n",
       "  </tbody>\n",
       "</table>\n",
       "</div>"
      ],
      "text/plain": [
       "   type  price  amount            datetime\n",
       "0     b    100      10 2024-03-04 22:31:01\n",
       "1     b    101       5 2024-03-04 22:31:01\n",
       "2     b    102       8 2024-03-04 22:31:01\n",
       "3     b    103      10 2024-03-04 22:31:01\n",
       "4     b    104      17 2024-03-04 22:31:01\n",
       "5     a    105      15 2024-03-04 22:31:01\n",
       "6     a    107      12 2024-03-04 22:31:01\n",
       "7     a    108       8 2024-03-04 22:31:01\n",
       "8     a    109      12 2024-03-04 22:31:01\n",
       "9     a    110      33 2024-03-04 22:31:01\n",
       "10    b    100      10 2024-03-04 22:32:01\n",
       "11    b    101       5 2024-03-04 22:32:01\n",
       "12    b    102       8 2024-03-04 22:32:01\n",
       "13    b    103      10 2024-03-04 22:32:01\n",
       "14    b    104      17 2024-03-04 22:32:01\n",
       "15    a    105      15 2024-03-04 22:32:01\n",
       "16    a    107      12 2024-03-04 22:32:01\n",
       "17    a    108       8 2024-03-04 22:32:01\n",
       "18    a    109      12 2024-03-04 22:32:01\n",
       "19    a    110      33 2024-03-04 22:32:01"
      ]
     },
     "execution_count": 50,
     "metadata": {},
     "output_type": "execute_result"
    }
   ],
   "source": [
    "# Define data\n",
    "lb_df = {\n",
    "    'type': ['b', 'b', 'b', 'b', 'b', 'a', 'a', 'a', 'a', 'a']*2,\n",
    "    'price': [100, 101, 102, 103, 104, 105, 107, 108, 109, 110]*2,\n",
    "    'amount': [10, 5, 8, 10, 17, 15, 12, 8, 12, 33]*2,\n",
    "    'datetime': pd.to_datetime(['2024-03-04 22:31:01'] * 10 + ['2024-03-04 22:32:01'] * 10)  # Convert to datetime\n",
    "}\n",
    "\n",
    "# Create DataFrame\n",
    "lb_df = pd.DataFrame(lb_df)\n",
    "lb_df"
   ]
  },
  {
   "cell_type": "code",
   "execution_count": null,
   "metadata": {},
   "outputs": [
    {
     "data": {
      "text/html": [
       "<div>\n",
       "<style scoped>\n",
       "    .dataframe tbody tr th:only-of-type {\n",
       "        vertical-align: middle;\n",
       "    }\n",
       "\n",
       "    .dataframe tbody tr th {\n",
       "        vertical-align: top;\n",
       "    }\n",
       "\n",
       "    .dataframe thead th {\n",
       "        text-align: right;\n",
       "    }\n",
       "</style>\n",
       "<table border=\"1\" class=\"dataframe\">\n",
       "  <thead>\n",
       "    <tr style=\"text-align: right;\">\n",
       "      <th></th>\n",
       "      <th>datetime</th>\n",
       "      <th>Best Ask</th>\n",
       "      <th>Best Bid</th>\n",
       "      <th>ask_volume</th>\n",
       "      <th>bid_volume</th>\n",
       "      <th>ask_slope_50</th>\n",
       "      <th>bid_slope_50</th>\n",
       "    </tr>\n",
       "  </thead>\n",
       "  <tbody>\n",
       "    <tr>\n",
       "      <th>0</th>\n",
       "      <td>2024-03-04 22:31:01</td>\n",
       "      <td>105</td>\n",
       "      <td>104</td>\n",
       "      <td>80</td>\n",
       "      <td>50</td>\n",
       "      <td>15</td>\n",
       "      <td>50</td>\n",
       "    </tr>\n",
       "    <tr>\n",
       "      <th>1</th>\n",
       "      <td>2024-03-04 22:32:01</td>\n",
       "      <td>105</td>\n",
       "      <td>104</td>\n",
       "      <td>80</td>\n",
       "      <td>50</td>\n",
       "      <td>15</td>\n",
       "      <td>50</td>\n",
       "    </tr>\n",
       "  </tbody>\n",
       "</table>\n",
       "</div>"
      ],
      "text/plain": [
       "             datetime  Best Ask  Best Bid  ask_volume  bid_volume  \\\n",
       "0 2024-03-04 22:31:01       105       104          80          50   \n",
       "1 2024-03-04 22:32:01       105       104          80          50   \n",
       "\n",
       "   ask_slope_50  bid_slope_50  \n",
       "0            15            50  \n",
       "1            15            50  "
      ]
     },
     "execution_count": 59,
     "metadata": {},
     "output_type": "execute_result"
    }
   ],
   "source": [
    "import pandas as pd\n",
    "import numpy as np\n",
    "\n",
    "def compute_features(group, thresholds):\n",
    "    bids = group[group['type'] == 'b'].sort_values(by='price', ascending=False)  # Highest bid first\n",
    "    asks = group[group['type'] == 'a'].sort_values(by='price', ascending=True)   # Lowest ask first\n",
    "    \n",
    "    if bids.empty or asks.empty:\n",
    "        return pd.Series({\n",
    "            'Best Ask': np.nan, 'Best Bid': np.nan, 'ask_volume': np.nan, 'bid_volume': np.nan,\n",
    "            **{f'ask_slope_{x}': np.nan for x in thresholds},\n",
    "            **{f'bid_slope_{x}': np.nan for x in thresholds}\n",
    "        })\n",
    "    \n",
    "    best_bid = bids['price'].iloc[0]\n",
    "    best_ask = asks['price'].iloc[0]\n",
    "    total_bid_volume = bids['amount'].sum()\n",
    "    total_ask_volume = asks['amount'].sum()\n",
    "    \n",
    "    def find_offset_price(df, total_volume, x, side='bid'):\n",
    "        \"\"\"Find price level where cumulative volume reaches x% of total volume.\"\"\"\n",
    "        cum_vol = df['amount'].cumsum()\n",
    "        threshold_volume = total_volume * (x / 100)\n",
    "        idx = (cum_vol >= threshold_volume).idxmax()\n",
    "        return df.loc[idx, 'price']\n",
    "    \n",
    "    ask_slopes = {}\n",
    "    bid_slopes = {}\n",
    "    \n",
    "    for x in thresholds:\n",
    "        # Compute p_b_x and delta_x_b\n",
    "        p_b_x = find_offset_price(bids, total_bid_volume, x, 'bid')\n",
    "        delta_x_b = best_bid - p_b_x\n",
    "        p_a_delta_x_b = best_ask + delta_x_b\n",
    "        ask_slopes[f'ask_slope_{x}'] = asks[asks['price'] <= p_a_delta_x_b]['amount'].sum()\n",
    "        \n",
    "        # Compute p_a_x and delta_x_a\n",
    "        p_a_x = find_offset_price(asks, total_ask_volume, x, 'ask')\n",
    "        delta_x_a = best_ask - p_a_x\n",
    "        p_b_delta_x_a = best_bid + delta_x_a\n",
    "        bid_slopes[f'bid_slope_{x}'] = bids[bids['price'] >= p_b_delta_x_a]['amount'].sum()\n",
    "    \n",
    "    return pd.Series({\n",
    "        'Best Ask': best_ask, 'Best Bid': best_bid, 'ask_volume': total_ask_volume, 'bid_volume': total_bid_volume,\n",
    "        **ask_slopes, **bid_slopes\n",
    "    })\n",
    "\n",
    "# Define percentage thresholds\n",
    "thresholds = [1, 5, 10]\n",
    "thresholds = [50]\n",
    "\n",
    "# Group by datetime and compute features\n",
    "result = lb_df.groupby('datetime').apply(lambda group: compute_features(group, thresholds), include_groups=False).reset_index()\n",
    "result\n"
   ]
  },
  {
   "cell_type": "code",
   "execution_count": null,
   "metadata": {},
   "outputs": [],
   "source": [
    "thresholds = [1, 5, 10]\n",
    "lob_dataset_grouped = lob_dataset.groupby('datetime').apply(lambda group: compute_features(group, thresholds), include_groups=False).reset_index()"
   ]
  },
  {
   "cell_type": "code",
   "execution_count": null,
   "metadata": {},
   "outputs": [
    {
     "data": {
      "text/html": [
       "<div>\n",
       "<style scoped>\n",
       "    .dataframe tbody tr th:only-of-type {\n",
       "        vertical-align: middle;\n",
       "    }\n",
       "\n",
       "    .dataframe tbody tr th {\n",
       "        vertical-align: top;\n",
       "    }\n",
       "\n",
       "    .dataframe thead th {\n",
       "        text-align: right;\n",
       "    }\n",
       "</style>\n",
       "<table border=\"1\" class=\"dataframe\">\n",
       "  <thead>\n",
       "    <tr style=\"text-align: right;\">\n",
       "      <th></th>\n",
       "      <th>datetime</th>\n",
       "      <th>Best Ask</th>\n",
       "      <th>Best Bid</th>\n",
       "      <th>ask_volume</th>\n",
       "      <th>bid_volume</th>\n",
       "      <th>ask_slope_1</th>\n",
       "      <th>ask_slope_5</th>\n",
       "      <th>ask_slope_10</th>\n",
       "      <th>bid_slope_1</th>\n",
       "      <th>bid_slope_5</th>\n",
       "      <th>bid_slope_10</th>\n",
       "    </tr>\n",
       "  </thead>\n",
       "  <tbody>\n",
       "    <tr>\n",
       "      <th>0</th>\n",
       "      <td>2018-07-03 22:00:01+00:00</td>\n",
       "      <td>6614.99</td>\n",
       "      <td>6613.32</td>\n",
       "      <td>2501.979545</td>\n",
       "      <td>567123.997426</td>\n",
       "      <td>1323.363422</td>\n",
       "      <td>2404.951714</td>\n",
       "      <td>2408.066048</td>\n",
       "      <td>6.704969</td>\n",
       "      <td>43.533540</td>\n",
       "      <td>154.347958</td>\n",
       "    </tr>\n",
       "    <tr>\n",
       "      <th>1</th>\n",
       "      <td>2018-07-03 22:00:34+00:00</td>\n",
       "      <td>6614.99</td>\n",
       "      <td>6613.32</td>\n",
       "      <td>2500.004667</td>\n",
       "      <td>567125.105659</td>\n",
       "      <td>1333.621186</td>\n",
       "      <td>2415.209477</td>\n",
       "      <td>2418.323812</td>\n",
       "      <td>5.884678</td>\n",
       "      <td>33.275745</td>\n",
       "      <td>138.851659</td>\n",
       "    </tr>\n",
       "    <tr>\n",
       "      <th>2</th>\n",
       "      <td>2018-07-03 22:01:01+00:00</td>\n",
       "      <td>6614.99</td>\n",
       "      <td>6613.32</td>\n",
       "      <td>2495.362910</td>\n",
       "      <td>567127.754102</td>\n",
       "      <td>1328.948178</td>\n",
       "      <td>2410.536470</td>\n",
       "      <td>2413.650804</td>\n",
       "      <td>6.877432</td>\n",
       "      <td>45.799112</td>\n",
       "      <td>140.500981</td>\n",
       "    </tr>\n",
       "    <tr>\n",
       "      <th>3</th>\n",
       "      <td>2018-07-03 22:01:34+00:00</td>\n",
       "      <td>6614.98</td>\n",
       "      <td>6608.82</td>\n",
       "      <td>2495.541990</td>\n",
       "      <td>567127.251110</td>\n",
       "      <td>1328.608508</td>\n",
       "      <td>2410.692728</td>\n",
       "      <td>2413.776134</td>\n",
       "      <td>3.455259</td>\n",
       "      <td>26.664782</td>\n",
       "      <td>141.904405</td>\n",
       "    </tr>\n",
       "    <tr>\n",
       "      <th>4</th>\n",
       "      <td>2018-07-03 22:02:01+00:00</td>\n",
       "      <td>6614.25</td>\n",
       "      <td>6608.80</td>\n",
       "      <td>2505.468060</td>\n",
       "      <td>567128.324518</td>\n",
       "      <td>1326.941237</td>\n",
       "      <td>2409.025456</td>\n",
       "      <td>2412.108863</td>\n",
       "      <td>2.965259</td>\n",
       "      <td>36.683320</td>\n",
       "      <td>143.978057</td>\n",
       "    </tr>\n",
       "  </tbody>\n",
       "</table>\n",
       "</div>"
      ],
      "text/plain": [
       "                   datetime  Best Ask  Best Bid   ask_volume     bid_volume  \\\n",
       "0 2018-07-03 22:00:01+00:00   6614.99   6613.32  2501.979545  567123.997426   \n",
       "1 2018-07-03 22:00:34+00:00   6614.99   6613.32  2500.004667  567125.105659   \n",
       "2 2018-07-03 22:01:01+00:00   6614.99   6613.32  2495.362910  567127.754102   \n",
       "3 2018-07-03 22:01:34+00:00   6614.98   6608.82  2495.541990  567127.251110   \n",
       "4 2018-07-03 22:02:01+00:00   6614.25   6608.80  2505.468060  567128.324518   \n",
       "\n",
       "   ask_slope_1  ask_slope_5  ask_slope_10  bid_slope_1  bid_slope_5  \\\n",
       "0  1323.363422  2404.951714   2408.066048     6.704969    43.533540   \n",
       "1  1333.621186  2415.209477   2418.323812     5.884678    33.275745   \n",
       "2  1328.948178  2410.536470   2413.650804     6.877432    45.799112   \n",
       "3  1328.608508  2410.692728   2413.776134     3.455259    26.664782   \n",
       "4  1326.941237  2409.025456   2412.108863     2.965259    36.683320   \n",
       "\n",
       "   bid_slope_10  \n",
       "0    154.347958  \n",
       "1    138.851659  \n",
       "2    140.500981  \n",
       "3    141.904405  \n",
       "4    143.978057  "
      ]
     },
     "execution_count": 61,
     "metadata": {},
     "output_type": "execute_result"
    }
   ],
   "source": [
    "lob_dataset_grouped.head()"
   ]
  },
  {
   "cell_type": "code",
   "execution_count": null,
   "metadata": {},
   "outputs": [
    {
     "data": {
      "text/html": [
       "<div>\n",
       "<style scoped>\n",
       "    .dataframe tbody tr th:only-of-type {\n",
       "        vertical-align: middle;\n",
       "    }\n",
       "\n",
       "    .dataframe tbody tr th {\n",
       "        vertical-align: top;\n",
       "    }\n",
       "\n",
       "    .dataframe thead th {\n",
       "        text-align: right;\n",
       "    }\n",
       "</style>\n",
       "<table border=\"1\" class=\"dataframe\">\n",
       "  <thead>\n",
       "    <tr style=\"text-align: right;\">\n",
       "      <th></th>\n",
       "      <th>datetime</th>\n",
       "      <th>ask_volume</th>\n",
       "      <th>bid_volume</th>\n",
       "      <th>ask_slope_1</th>\n",
       "      <th>ask_slope_5</th>\n",
       "      <th>ask_slope_10</th>\n",
       "      <th>bid_slope_1</th>\n",
       "      <th>bid_slope_5</th>\n",
       "      <th>bid_slope_10</th>\n",
       "      <th>spread</th>\n",
       "      <th>lob_volume_imbalance</th>\n",
       "      <th>slope_imbalance_1</th>\n",
       "      <th>slope_imbalance_5</th>\n",
       "      <th>slope_imbalance_10</th>\n",
       "    </tr>\n",
       "  </thead>\n",
       "  <tbody>\n",
       "    <tr>\n",
       "      <th>0</th>\n",
       "      <td>2018-07-03 22:00:01+00:00</td>\n",
       "      <td>2501.979545</td>\n",
       "      <td>567123.997426</td>\n",
       "      <td>1323.363422</td>\n",
       "      <td>2404.951714</td>\n",
       "      <td>2408.066048</td>\n",
       "      <td>6.704969</td>\n",
       "      <td>43.533540</td>\n",
       "      <td>154.347958</td>\n",
       "      <td>1.67</td>\n",
       "      <td>564622.017881</td>\n",
       "      <td>1316.658453</td>\n",
       "      <td>2361.418174</td>\n",
       "      <td>2253.718089</td>\n",
       "    </tr>\n",
       "    <tr>\n",
       "      <th>1</th>\n",
       "      <td>2018-07-03 22:00:34+00:00</td>\n",
       "      <td>2500.004667</td>\n",
       "      <td>567125.105659</td>\n",
       "      <td>1333.621186</td>\n",
       "      <td>2415.209477</td>\n",
       "      <td>2418.323812</td>\n",
       "      <td>5.884678</td>\n",
       "      <td>33.275745</td>\n",
       "      <td>138.851659</td>\n",
       "      <td>1.67</td>\n",
       "      <td>564625.100992</td>\n",
       "      <td>1327.736507</td>\n",
       "      <td>2381.933732</td>\n",
       "      <td>2279.472153</td>\n",
       "    </tr>\n",
       "    <tr>\n",
       "      <th>2</th>\n",
       "      <td>2018-07-03 22:01:01+00:00</td>\n",
       "      <td>2495.362910</td>\n",
       "      <td>567127.754102</td>\n",
       "      <td>1328.948178</td>\n",
       "      <td>2410.536470</td>\n",
       "      <td>2413.650804</td>\n",
       "      <td>6.877432</td>\n",
       "      <td>45.799112</td>\n",
       "      <td>140.500981</td>\n",
       "      <td>1.67</td>\n",
       "      <td>564632.391192</td>\n",
       "      <td>1322.070746</td>\n",
       "      <td>2364.737358</td>\n",
       "      <td>2273.149822</td>\n",
       "    </tr>\n",
       "    <tr>\n",
       "      <th>3</th>\n",
       "      <td>2018-07-03 22:01:34+00:00</td>\n",
       "      <td>2495.541990</td>\n",
       "      <td>567127.251110</td>\n",
       "      <td>1328.608508</td>\n",
       "      <td>2410.692728</td>\n",
       "      <td>2413.776134</td>\n",
       "      <td>3.455259</td>\n",
       "      <td>26.664782</td>\n",
       "      <td>141.904405</td>\n",
       "      <td>6.16</td>\n",
       "      <td>564631.709120</td>\n",
       "      <td>1325.153249</td>\n",
       "      <td>2384.027946</td>\n",
       "      <td>2271.871729</td>\n",
       "    </tr>\n",
       "    <tr>\n",
       "      <th>4</th>\n",
       "      <td>2018-07-03 22:02:01+00:00</td>\n",
       "      <td>2505.468060</td>\n",
       "      <td>567128.324518</td>\n",
       "      <td>1326.941237</td>\n",
       "      <td>2409.025456</td>\n",
       "      <td>2412.108863</td>\n",
       "      <td>2.965259</td>\n",
       "      <td>36.683320</td>\n",
       "      <td>143.978057</td>\n",
       "      <td>5.45</td>\n",
       "      <td>564622.856458</td>\n",
       "      <td>1323.975978</td>\n",
       "      <td>2372.342136</td>\n",
       "      <td>2268.130806</td>\n",
       "    </tr>\n",
       "  </tbody>\n",
       "</table>\n",
       "</div>"
      ],
      "text/plain": [
       "                   datetime   ask_volume     bid_volume  ask_slope_1  \\\n",
       "0 2018-07-03 22:00:01+00:00  2501.979545  567123.997426  1323.363422   \n",
       "1 2018-07-03 22:00:34+00:00  2500.004667  567125.105659  1333.621186   \n",
       "2 2018-07-03 22:01:01+00:00  2495.362910  567127.754102  1328.948178   \n",
       "3 2018-07-03 22:01:34+00:00  2495.541990  567127.251110  1328.608508   \n",
       "4 2018-07-03 22:02:01+00:00  2505.468060  567128.324518  1326.941237   \n",
       "\n",
       "   ask_slope_5  ask_slope_10  bid_slope_1  bid_slope_5  bid_slope_10  spread  \\\n",
       "0  2404.951714   2408.066048     6.704969    43.533540    154.347958    1.67   \n",
       "1  2415.209477   2418.323812     5.884678    33.275745    138.851659    1.67   \n",
       "2  2410.536470   2413.650804     6.877432    45.799112    140.500981    1.67   \n",
       "3  2410.692728   2413.776134     3.455259    26.664782    141.904405    6.16   \n",
       "4  2409.025456   2412.108863     2.965259    36.683320    143.978057    5.45   \n",
       "\n",
       "   lob_volume_imbalance  slope_imbalance_1  slope_imbalance_5  \\\n",
       "0         564622.017881        1316.658453        2361.418174   \n",
       "1         564625.100992        1327.736507        2381.933732   \n",
       "2         564632.391192        1322.070746        2364.737358   \n",
       "3         564631.709120        1325.153249        2384.027946   \n",
       "4         564622.856458        1323.975978        2372.342136   \n",
       "\n",
       "   slope_imbalance_10  \n",
       "0         2253.718089  \n",
       "1         2279.472153  \n",
       "2         2273.149822  \n",
       "3         2271.871729  \n",
       "4         2268.130806  "
      ]
     },
     "execution_count": 63,
     "metadata": {},
     "output_type": "execute_result"
    }
   ],
   "source": [
    "lob_dataset_grouped['spread'] = lob_dataset_grouped['Best Ask'] - lob_dataset_grouped['Best Bid']\n",
    "lob_dataset_grouped['lob_volume_imbalance'] = np.abs(lob_dataset_grouped['bid_volume'] - lob_dataset_grouped['ask_volume'])\n",
    "for thresh in thresholds:\n",
    "    lob_dataset_grouped[f'slope_imbalance_{thresh}'] = np.abs(lob_dataset_grouped[f'ask_slope_{thresh}'] - lob_dataset_grouped[f'bid_slope_{thresh}'])\n",
    "lob_dataset_grouped.drop(['Best Ask', 'Best Bid'], axis=1, inplace=True)\n",
    "lob_dataset_grouped.head()"
   ]
  },
  {
   "cell_type": "code",
   "execution_count": null,
   "metadata": {},
   "outputs": [
    {
     "name": "stderr",
     "output_type": "stream",
     "text": [
      "  1%|          | 1/109 [00:19<35:33, 19.75s/it]"
     ]
    },
    {
     "data": {
      "application/vnd.jupyter.widget-view+json": {
       "model_id": "44350f408f4d43ccbf056fc4379b0848",
       "version_major": 2,
       "version_minor": 0
      },
      "text/plain": [
       "Generating train split: 0 examples [00:00, ? examples/s]"
      ]
     },
     "metadata": {},
     "output_type": "display_data"
    },
    {
     "name": "stderr",
     "output_type": "stream",
     "text": [
      "  2%|▏         | 2/109 [01:06<1:03:29, 35.61s/it]"
     ]
    },
    {
     "data": {
      "application/vnd.jupyter.widget-view+json": {
       "model_id": "32e6d50fff60409780b24b85c841425e",
       "version_major": 2,
       "version_minor": 0
      },
      "text/plain": [
       "Generating train split: 0 examples [00:00, ? examples/s]"
      ]
     },
     "metadata": {},
     "output_type": "display_data"
    },
    {
     "name": "stderr",
     "output_type": "stream",
     "text": [
      "  3%|▎         | 3/109 [01:56<1:14:53, 42.39s/it]"
     ]
    },
    {
     "data": {
      "application/vnd.jupyter.widget-view+json": {
       "model_id": "48bd8659f3544eaeae191f5cc5494c5b",
       "version_major": 2,
       "version_minor": 0
      },
      "text/plain": [
       "Generating train split: 0 examples [00:00, ? examples/s]"
      ]
     },
     "metadata": {},
     "output_type": "display_data"
    },
    {
     "name": "stderr",
     "output_type": "stream",
     "text": [
      "  4%|▎         | 4/109 [02:45<1:18:10, 44.67s/it]"
     ]
    },
    {
     "data": {
      "application/vnd.jupyter.widget-view+json": {
       "model_id": "8206bb52cf124c09b41a5c718e3fc473",
       "version_major": 2,
       "version_minor": 0
      },
      "text/plain": [
       "Generating train split: 0 examples [00:00, ? examples/s]"
      ]
     },
     "metadata": {},
     "output_type": "display_data"
    },
    {
     "name": "stderr",
     "output_type": "stream",
     "text": [
      "  5%|▍         | 5/109 [04:14<1:45:31, 60.88s/it]"
     ]
    },
    {
     "data": {
      "application/vnd.jupyter.widget-view+json": {
       "model_id": "997feaa5b35a42d88bc50d1bd9d3b3a5",
       "version_major": 2,
       "version_minor": 0
      },
      "text/plain": [
       "Generating train split: 0 examples [00:00, ? examples/s]"
      ]
     },
     "metadata": {},
     "output_type": "display_data"
    },
    {
     "name": "stderr",
     "output_type": "stream",
     "text": [
      "  6%|▌         | 6/109 [05:47<2:03:00, 71.66s/it]"
     ]
    },
    {
     "data": {
      "application/vnd.jupyter.widget-view+json": {
       "model_id": "0b81eb4c54fc473981e4eb4459d33833",
       "version_major": 2,
       "version_minor": 0
      },
      "text/plain": [
       "Generating train split: 0 examples [00:00, ? examples/s]"
      ]
     },
     "metadata": {},
     "output_type": "display_data"
    },
    {
     "name": "stderr",
     "output_type": "stream",
     "text": [
      "  6%|▋         | 7/109 [07:22<2:15:01, 79.42s/it]"
     ]
    },
    {
     "data": {
      "application/vnd.jupyter.widget-view+json": {
       "model_id": "b0f725938cd949c88a505496b240a0aa",
       "version_major": 2,
       "version_minor": 0
      },
      "text/plain": [
       "Generating train split: 0 examples [00:00, ? examples/s]"
      ]
     },
     "metadata": {},
     "output_type": "display_data"
    },
    {
     "name": "stderr",
     "output_type": "stream",
     "text": [
      "  7%|▋         | 8/109 [08:53<2:19:48, 83.06s/it]"
     ]
    },
    {
     "data": {
      "application/vnd.jupyter.widget-view+json": {
       "model_id": "80d147ac937643bfa2b06f33ec7f6178",
       "version_major": 2,
       "version_minor": 0
      },
      "text/plain": [
       "Generating train split: 0 examples [00:00, ? examples/s]"
      ]
     },
     "metadata": {},
     "output_type": "display_data"
    },
    {
     "name": "stderr",
     "output_type": "stream",
     "text": [
      "  8%|▊         | 9/109 [10:21<2:20:48, 84.49s/it]"
     ]
    },
    {
     "data": {
      "application/vnd.jupyter.widget-view+json": {
       "model_id": "eb590fbf70064f3fa987e5e19f12cbc5",
       "version_major": 2,
       "version_minor": 0
      },
      "text/plain": [
       "Generating train split: 0 examples [00:00, ? examples/s]"
      ]
     },
     "metadata": {},
     "output_type": "display_data"
    },
    {
     "name": "stderr",
     "output_type": "stream",
     "text": [
      "  9%|▉         | 10/109 [11:48<2:21:06, 85.52s/it]"
     ]
    },
    {
     "data": {
      "application/vnd.jupyter.widget-view+json": {
       "model_id": "59041a352a6c407a8d8229c88e8fcd37",
       "version_major": 2,
       "version_minor": 0
      },
      "text/plain": [
       "Generating train split: 0 examples [00:00, ? examples/s]"
      ]
     },
     "metadata": {},
     "output_type": "display_data"
    },
    {
     "name": "stderr",
     "output_type": "stream",
     "text": [
      " 10%|█         | 11/109 [13:15<2:20:01, 85.73s/it]"
     ]
    },
    {
     "data": {
      "application/vnd.jupyter.widget-view+json": {
       "model_id": "7e7af83bc51c4da58d85c9a6c194d020",
       "version_major": 2,
       "version_minor": 0
      },
      "text/plain": [
       "Generating train split: 0 examples [00:00, ? examples/s]"
      ]
     },
     "metadata": {},
     "output_type": "display_data"
    },
    {
     "name": "stderr",
     "output_type": "stream",
     "text": [
      " 11%|█         | 12/109 [14:43<2:19:57, 86.57s/it]"
     ]
    },
    {
     "data": {
      "application/vnd.jupyter.widget-view+json": {
       "model_id": "95857b6c6de542ea9cf3c9eff3cf35ff",
       "version_major": 2,
       "version_minor": 0
      },
      "text/plain": [
       "Generating train split: 0 examples [00:00, ? examples/s]"
      ]
     },
     "metadata": {},
     "output_type": "display_data"
    },
    {
     "name": "stderr",
     "output_type": "stream",
     "text": [
      " 12%|█▏        | 13/109 [16:11<2:19:20, 87.08s/it]"
     ]
    },
    {
     "data": {
      "application/vnd.jupyter.widget-view+json": {
       "model_id": "02920c8456e540978148f20765b76f01",
       "version_major": 2,
       "version_minor": 0
      },
      "text/plain": [
       "Generating train split: 0 examples [00:00, ? examples/s]"
      ]
     },
     "metadata": {},
     "output_type": "display_data"
    },
    {
     "name": "stderr",
     "output_type": "stream",
     "text": [
      " 13%|█▎        | 14/109 [17:42<2:19:46, 88.28s/it]"
     ]
    },
    {
     "data": {
      "application/vnd.jupyter.widget-view+json": {
       "model_id": "79c7e1e692a3484ab0e46379a1e1cbd9",
       "version_major": 2,
       "version_minor": 0
      },
      "text/plain": [
       "Generating train split: 0 examples [00:00, ? examples/s]"
      ]
     },
     "metadata": {},
     "output_type": "display_data"
    },
    {
     "name": "stderr",
     "output_type": "stream",
     "text": [
      " 14%|█▍        | 15/109 [19:10<2:17:58, 88.07s/it]"
     ]
    },
    {
     "data": {
      "application/vnd.jupyter.widget-view+json": {
       "model_id": "550436d0b72f42a2acb53562fb2b9237",
       "version_major": 2,
       "version_minor": 0
      },
      "text/plain": [
       "Generating train split: 0 examples [00:00, ? examples/s]"
      ]
     },
     "metadata": {},
     "output_type": "display_data"
    },
    {
     "name": "stderr",
     "output_type": "stream",
     "text": [
      " 15%|█▍        | 16/109 [20:37<2:16:07, 87.83s/it]"
     ]
    },
    {
     "data": {
      "application/vnd.jupyter.widget-view+json": {
       "model_id": "24448f3e28a04fb1887e16369498e409",
       "version_major": 2,
       "version_minor": 0
      },
      "text/plain": [
       "Generating train split: 0 examples [00:00, ? examples/s]"
      ]
     },
     "metadata": {},
     "output_type": "display_data"
    },
    {
     "name": "stderr",
     "output_type": "stream",
     "text": [
      " 16%|█▌        | 17/109 [22:05<2:14:37, 87.79s/it]"
     ]
    },
    {
     "data": {
      "application/vnd.jupyter.widget-view+json": {
       "model_id": "41f3f252c87543d7b71d86b2d3226538",
       "version_major": 2,
       "version_minor": 0
      },
      "text/plain": [
       "Generating train split: 0 examples [00:00, ? examples/s]"
      ]
     },
     "metadata": {},
     "output_type": "display_data"
    },
    {
     "name": "stderr",
     "output_type": "stream",
     "text": [
      " 17%|█▋        | 18/109 [23:31<2:12:17, 87.23s/it]"
     ]
    },
    {
     "data": {
      "application/vnd.jupyter.widget-view+json": {
       "model_id": "dc6a0879f2784bd389a1bf635bbd6700",
       "version_major": 2,
       "version_minor": 0
      },
      "text/plain": [
       "Generating train split: 0 examples [00:00, ? examples/s]"
      ]
     },
     "metadata": {},
     "output_type": "display_data"
    },
    {
     "name": "stderr",
     "output_type": "stream",
     "text": [
      " 17%|█▋        | 19/109 [24:57<2:10:18, 86.87s/it]"
     ]
    },
    {
     "data": {
      "application/vnd.jupyter.widget-view+json": {
       "model_id": "c9433c8a3e974faea56a95f09c9b87bb",
       "version_major": 2,
       "version_minor": 0
      },
      "text/plain": [
       "Generating train split: 0 examples [00:00, ? examples/s]"
      ]
     },
     "metadata": {},
     "output_type": "display_data"
    },
    {
     "name": "stderr",
     "output_type": "stream",
     "text": [
      " 18%|█▊        | 20/109 [26:48<2:19:25, 94.00s/it]"
     ]
    },
    {
     "data": {
      "application/vnd.jupyter.widget-view+json": {
       "model_id": "fc3230392a0d45359cbcd5207ff80b6d",
       "version_major": 2,
       "version_minor": 0
      },
      "text/plain": [
       "Generating train split: 0 examples [00:00, ? examples/s]"
      ]
     },
     "metadata": {},
     "output_type": "display_data"
    },
    {
     "name": "stderr",
     "output_type": "stream",
     "text": [
      " 19%|█▉        | 21/109 [29:32<2:48:58, 115.21s/it]"
     ]
    },
    {
     "data": {
      "application/vnd.jupyter.widget-view+json": {
       "model_id": "8f7e980e44e34a81815f4ca0dc8a19e6",
       "version_major": 2,
       "version_minor": 0
      },
      "text/plain": [
       "Generating train split: 0 examples [00:00, ? examples/s]"
      ]
     },
     "metadata": {},
     "output_type": "display_data"
    },
    {
     "name": "stderr",
     "output_type": "stream",
     "text": [
      " 20%|██        | 22/109 [31:44<2:54:19, 120.22s/it]"
     ]
    },
    {
     "data": {
      "application/vnd.jupyter.widget-view+json": {
       "model_id": "3fc1c6a1de5e4ba4a1fc97fde9df3410",
       "version_major": 2,
       "version_minor": 0
      },
      "text/plain": [
       "Generating train split: 0 examples [00:00, ? examples/s]"
      ]
     },
     "metadata": {},
     "output_type": "display_data"
    },
    {
     "name": "stderr",
     "output_type": "stream",
     "text": [
      " 21%|██        | 23/109 [33:56<2:57:13, 123.64s/it]"
     ]
    },
    {
     "data": {
      "application/vnd.jupyter.widget-view+json": {
       "model_id": "9d3bf4b089094c3aa1605d65f66c0772",
       "version_major": 2,
       "version_minor": 0
      },
      "text/plain": [
       "Generating train split: 0 examples [00:00, ? examples/s]"
      ]
     },
     "metadata": {},
     "output_type": "display_data"
    },
    {
     "name": "stderr",
     "output_type": "stream",
     "text": [
      " 22%|██▏       | 24/109 [36:08<2:58:45, 126.19s/it]"
     ]
    },
    {
     "data": {
      "application/vnd.jupyter.widget-view+json": {
       "model_id": "12472c10e5d24c8aa2fc864fd3122389",
       "version_major": 2,
       "version_minor": 0
      },
      "text/plain": [
       "Generating train split: 0 examples [00:00, ? examples/s]"
      ]
     },
     "metadata": {},
     "output_type": "display_data"
    },
    {
     "name": "stderr",
     "output_type": "stream",
     "text": [
      " 23%|██▎       | 25/109 [38:22<2:59:47, 128.42s/it]"
     ]
    },
    {
     "data": {
      "application/vnd.jupyter.widget-view+json": {
       "model_id": "174d14fc822e478a9b3e82c629ee9b07",
       "version_major": 2,
       "version_minor": 0
      },
      "text/plain": [
       "Generating train split: 0 examples [00:00, ? examples/s]"
      ]
     },
     "metadata": {},
     "output_type": "display_data"
    },
    {
     "name": "stderr",
     "output_type": "stream",
     "text": [
      " 24%|██▍       | 26/109 [40:42<3:02:26, 131.89s/it]"
     ]
    },
    {
     "data": {
      "application/vnd.jupyter.widget-view+json": {
       "model_id": "d356f3a5cc20457289f48b9185ebd699",
       "version_major": 2,
       "version_minor": 0
      },
      "text/plain": [
       "Generating train split: 0 examples [00:00, ? examples/s]"
      ]
     },
     "metadata": {},
     "output_type": "display_data"
    },
    {
     "name": "stderr",
     "output_type": "stream",
     "text": [
      " 25%|██▍       | 27/109 [42:51<2:59:18, 131.20s/it]"
     ]
    },
    {
     "data": {
      "application/vnd.jupyter.widget-view+json": {
       "model_id": "77e024e6b00e4cfbb9d52ef50c9e6246",
       "version_major": 2,
       "version_minor": 0
      },
      "text/plain": [
       "Generating train split: 0 examples [00:00, ? examples/s]"
      ]
     },
     "metadata": {},
     "output_type": "display_data"
    },
    {
     "name": "stderr",
     "output_type": "stream",
     "text": [
      " 26%|██▌       | 28/109 [44:57<2:54:57, 129.60s/it]"
     ]
    },
    {
     "data": {
      "application/vnd.jupyter.widget-view+json": {
       "model_id": "9849b11970c14097a4b9f86e9b3202d2",
       "version_major": 2,
       "version_minor": 0
      },
      "text/plain": [
       "Generating train split: 0 examples [00:00, ? examples/s]"
      ]
     },
     "metadata": {},
     "output_type": "display_data"
    },
    {
     "name": "stderr",
     "output_type": "stream",
     "text": [
      " 27%|██▋       | 29/109 [46:54<2:47:48, 125.86s/it]"
     ]
    },
    {
     "data": {
      "application/vnd.jupyter.widget-view+json": {
       "model_id": "d7d370c4ecbd4e98ad906ca5001bbc33",
       "version_major": 2,
       "version_minor": 0
      },
      "text/plain": [
       "Generating train split: 0 examples [00:00, ? examples/s]"
      ]
     },
     "metadata": {},
     "output_type": "display_data"
    },
    {
     "name": "stderr",
     "output_type": "stream",
     "text": [
      " 28%|██▊       | 30/109 [48:23<2:31:00, 114.69s/it]"
     ]
    },
    {
     "data": {
      "application/vnd.jupyter.widget-view+json": {
       "model_id": "78e54c7ce9d2446d8db5dfe118957fac",
       "version_major": 2,
       "version_minor": 0
      },
      "text/plain": [
       "Generating train split: 0 examples [00:00, ? examples/s]"
      ]
     },
     "metadata": {},
     "output_type": "display_data"
    },
    {
     "name": "stderr",
     "output_type": "stream",
     "text": [
      " 28%|██▊       | 31/109 [50:27<2:32:37, 117.41s/it]"
     ]
    },
    {
     "data": {
      "application/vnd.jupyter.widget-view+json": {
       "model_id": "79e4e6740f9c4901948df982508cd16a",
       "version_major": 2,
       "version_minor": 0
      },
      "text/plain": [
       "Generating train split: 0 examples [00:00, ? examples/s]"
      ]
     },
     "metadata": {},
     "output_type": "display_data"
    },
    {
     "name": "stderr",
     "output_type": "stream",
     "text": [
      " 29%|██▉       | 32/109 [52:42<2:37:37, 122.83s/it]"
     ]
    },
    {
     "data": {
      "application/vnd.jupyter.widget-view+json": {
       "model_id": "3d779f458ba04d6a80d4bc4b259c2182",
       "version_major": 2,
       "version_minor": 0
      },
      "text/plain": [
       "Generating train split: 0 examples [00:00, ? examples/s]"
      ]
     },
     "metadata": {},
     "output_type": "display_data"
    },
    {
     "name": "stderr",
     "output_type": "stream",
     "text": [
      " 30%|███       | 33/109 [54:56<2:39:42, 126.09s/it]"
     ]
    },
    {
     "data": {
      "application/vnd.jupyter.widget-view+json": {
       "model_id": "5cc56be3c6c640c6b844842f438ebece",
       "version_major": 2,
       "version_minor": 0
      },
      "text/plain": [
       "Generating train split: 0 examples [00:00, ? examples/s]"
      ]
     },
     "metadata": {},
     "output_type": "display_data"
    },
    {
     "name": "stderr",
     "output_type": "stream",
     "text": [
      " 31%|███       | 34/109 [57:10<2:40:49, 128.66s/it]"
     ]
    },
    {
     "data": {
      "application/vnd.jupyter.widget-view+json": {
       "model_id": "5c7957212dde489eb13ece85b9808f03",
       "version_major": 2,
       "version_minor": 0
      },
      "text/plain": [
       "Generating train split: 0 examples [00:00, ? examples/s]"
      ]
     },
     "metadata": {},
     "output_type": "display_data"
    },
    {
     "name": "stderr",
     "output_type": "stream",
     "text": [
      " 32%|███▏      | 35/109 [59:44<2:47:51, 136.10s/it]"
     ]
    },
    {
     "data": {
      "application/vnd.jupyter.widget-view+json": {
       "model_id": "1169cd5fb9e7494da783eaf86da3bd9f",
       "version_major": 2,
       "version_minor": 0
      },
      "text/plain": [
       "Generating train split: 0 examples [00:00, ? examples/s]"
      ]
     },
     "metadata": {},
     "output_type": "display_data"
    },
    {
     "name": "stderr",
     "output_type": "stream",
     "text": [
      " 33%|███▎      | 36/109 [1:01:54<2:43:34, 134.45s/it]"
     ]
    },
    {
     "data": {
      "application/vnd.jupyter.widget-view+json": {
       "model_id": "6d0c1e54c42e498487abb6125d72253b",
       "version_major": 2,
       "version_minor": 0
      },
      "text/plain": [
       "Generating train split: 0 examples [00:00, ? examples/s]"
      ]
     },
     "metadata": {},
     "output_type": "display_data"
    },
    {
     "name": "stderr",
     "output_type": "stream",
     "text": [
      " 34%|███▍      | 37/109 [1:04:11<2:42:04, 135.06s/it]"
     ]
    },
    {
     "data": {
      "application/vnd.jupyter.widget-view+json": {
       "model_id": "fff686e4a93346d4994dcf628f0120bd",
       "version_major": 2,
       "version_minor": 0
      },
      "text/plain": [
       "Generating train split: 0 examples [00:00, ? examples/s]"
      ]
     },
     "metadata": {},
     "output_type": "display_data"
    },
    {
     "name": "stderr",
     "output_type": "stream",
     "text": [
      " 35%|███▍      | 38/109 [1:06:26<2:39:54, 135.13s/it]"
     ]
    },
    {
     "data": {
      "application/vnd.jupyter.widget-view+json": {
       "model_id": "a540e0cb5af047ac8a6ba21ec44519b9",
       "version_major": 2,
       "version_minor": 0
      },
      "text/plain": [
       "Generating train split: 0 examples [00:00, ? examples/s]"
      ]
     },
     "metadata": {},
     "output_type": "display_data"
    },
    {
     "name": "stderr",
     "output_type": "stream",
     "text": [
      " 36%|███▌      | 39/109 [1:08:40<2:37:13, 134.77s/it]"
     ]
    },
    {
     "data": {
      "application/vnd.jupyter.widget-view+json": {
       "model_id": "22f84b606e9a498f8f0ffa82a6d5eb64",
       "version_major": 2,
       "version_minor": 0
      },
      "text/plain": [
       "Generating train split: 0 examples [00:00, ? examples/s]"
      ]
     },
     "metadata": {},
     "output_type": "display_data"
    },
    {
     "name": "stderr",
     "output_type": "stream",
     "text": [
      " 37%|███▋      | 40/109 [1:10:52<2:33:57, 133.88s/it]"
     ]
    },
    {
     "data": {
      "application/vnd.jupyter.widget-view+json": {
       "model_id": "33e94028d0d147cf9896286eb29500cb",
       "version_major": 2,
       "version_minor": 0
      },
      "text/plain": [
       "Generating train split: 0 examples [00:00, ? examples/s]"
      ]
     },
     "metadata": {},
     "output_type": "display_data"
    },
    {
     "name": "stderr",
     "output_type": "stream",
     "text": [
      " 38%|███▊      | 41/109 [1:13:06<2:31:46, 133.93s/it]"
     ]
    },
    {
     "data": {
      "application/vnd.jupyter.widget-view+json": {
       "model_id": "67b23e065d1f477ca0f8e8bb091602fb",
       "version_major": 2,
       "version_minor": 0
      },
      "text/plain": [
       "Generating train split: 0 examples [00:00, ? examples/s]"
      ]
     },
     "metadata": {},
     "output_type": "display_data"
    },
    {
     "name": "stderr",
     "output_type": "stream",
     "text": [
      " 39%|███▊      | 42/109 [1:15:17<2:28:36, 133.08s/it]"
     ]
    },
    {
     "data": {
      "application/vnd.jupyter.widget-view+json": {
       "model_id": "40736f7787524e0ba5bae26e1b0bc7f2",
       "version_major": 2,
       "version_minor": 0
      },
      "text/plain": [
       "Generating train split: 0 examples [00:00, ? examples/s]"
      ]
     },
     "metadata": {},
     "output_type": "display_data"
    },
    {
     "name": "stderr",
     "output_type": "stream",
     "text": [
      " 39%|███▉      | 43/109 [1:17:36<2:28:24, 134.91s/it]"
     ]
    },
    {
     "data": {
      "application/vnd.jupyter.widget-view+json": {
       "model_id": "ab6eedb8b9ee422c92999f8176812724",
       "version_major": 2,
       "version_minor": 0
      },
      "text/plain": [
       "Generating train split: 0 examples [00:00, ? examples/s]"
      ]
     },
     "metadata": {},
     "output_type": "display_data"
    },
    {
     "name": "stderr",
     "output_type": "stream",
     "text": [
      " 40%|████      | 44/109 [1:19:48<2:25:03, 133.91s/it]"
     ]
    },
    {
     "data": {
      "application/vnd.jupyter.widget-view+json": {
       "model_id": "aab000a95d3a4ed6926c786eed63d814",
       "version_major": 2,
       "version_minor": 0
      },
      "text/plain": [
       "Generating train split: 0 examples [00:00, ? examples/s]"
      ]
     },
     "metadata": {},
     "output_type": "display_data"
    },
    {
     "name": "stderr",
     "output_type": "stream",
     "text": [
      " 41%|████▏     | 45/109 [1:21:26<2:11:33, 123.33s/it]"
     ]
    },
    {
     "data": {
      "application/vnd.jupyter.widget-view+json": {
       "model_id": "542ec60e07624f63ab9d486a1098e11b",
       "version_major": 2,
       "version_minor": 0
      },
      "text/plain": [
       "Generating train split: 0 examples [00:00, ? examples/s]"
      ]
     },
     "metadata": {},
     "output_type": "display_data"
    },
    {
     "name": "stderr",
     "output_type": "stream",
     "text": [
      " 42%|████▏     | 46/109 [1:23:38<2:12:14, 125.94s/it]"
     ]
    },
    {
     "data": {
      "application/vnd.jupyter.widget-view+json": {
       "model_id": "e4550bb59f134766a9ed712db93d1929",
       "version_major": 2,
       "version_minor": 0
      },
      "text/plain": [
       "Generating train split: 0 examples [00:00, ? examples/s]"
      ]
     },
     "metadata": {},
     "output_type": "display_data"
    },
    {
     "name": "stderr",
     "output_type": "stream",
     "text": [
      " 43%|████▎     | 47/109 [1:25:58<2:14:22, 130.03s/it]"
     ]
    },
    {
     "data": {
      "application/vnd.jupyter.widget-view+json": {
       "model_id": "ca776b4db32b463f9114d77a791e4c4c",
       "version_major": 2,
       "version_minor": 0
      },
      "text/plain": [
       "Generating train split: 0 examples [00:00, ? examples/s]"
      ]
     },
     "metadata": {},
     "output_type": "display_data"
    },
    {
     "name": "stderr",
     "output_type": "stream",
     "text": [
      " 44%|████▍     | 48/109 [1:28:14<2:13:59, 131.80s/it]"
     ]
    },
    {
     "data": {
      "application/vnd.jupyter.widget-view+json": {
       "model_id": "8da502ca16404887b39d5a96815cc704",
       "version_major": 2,
       "version_minor": 0
      },
      "text/plain": [
       "Generating train split: 0 examples [00:00, ? examples/s]"
      ]
     },
     "metadata": {},
     "output_type": "display_data"
    },
    {
     "name": "stderr",
     "output_type": "stream",
     "text": [
      " 45%|████▍     | 49/109 [1:29:44<1:59:15, 119.26s/it]"
     ]
    },
    {
     "data": {
      "application/vnd.jupyter.widget-view+json": {
       "model_id": "17e9ad3c9b50416aa4331c018a5deca7",
       "version_major": 2,
       "version_minor": 0
      },
      "text/plain": [
       "Generating train split: 0 examples [00:00, ? examples/s]"
      ]
     },
     "metadata": {},
     "output_type": "display_data"
    },
    {
     "name": "stderr",
     "output_type": "stream",
     "text": [
      " 46%|████▌     | 50/109 [1:31:57<2:01:18, 123.36s/it]"
     ]
    },
    {
     "data": {
      "application/vnd.jupyter.widget-view+json": {
       "model_id": "84e00173090547b494e5ce305122166c",
       "version_major": 2,
       "version_minor": 0
      },
      "text/plain": [
       "Generating train split: 0 examples [00:00, ? examples/s]"
      ]
     },
     "metadata": {},
     "output_type": "display_data"
    },
    {
     "name": "stderr",
     "output_type": "stream",
     "text": [
      " 47%|████▋     | 51/109 [1:34:17<2:03:57, 128.23s/it]"
     ]
    },
    {
     "data": {
      "application/vnd.jupyter.widget-view+json": {
       "model_id": "3256ee3ea4414dcfb9741cf07e1a46f9",
       "version_major": 2,
       "version_minor": 0
      },
      "text/plain": [
       "Generating train split: 0 examples [00:00, ? examples/s]"
      ]
     },
     "metadata": {},
     "output_type": "display_data"
    },
    {
     "name": "stderr",
     "output_type": "stream",
     "text": [
      " 48%|████▊     | 52/109 [1:36:29<2:02:55, 129.39s/it]"
     ]
    },
    {
     "data": {
      "application/vnd.jupyter.widget-view+json": {
       "model_id": "4ea5c35c525749de91f8fefa3ad26630",
       "version_major": 2,
       "version_minor": 0
      },
      "text/plain": [
       "Generating train split: 0 examples [00:00, ? examples/s]"
      ]
     },
     "metadata": {},
     "output_type": "display_data"
    },
    {
     "name": "stderr",
     "output_type": "stream",
     "text": [
      " 49%|████▊     | 53/109 [1:38:22<1:56:20, 124.66s/it]"
     ]
    },
    {
     "data": {
      "application/vnd.jupyter.widget-view+json": {
       "model_id": "02a2f62db3bd4ebf9c4463b09a3daa10",
       "version_major": 2,
       "version_minor": 0
      },
      "text/plain": [
       "Generating train split: 0 examples [00:00, ? examples/s]"
      ]
     },
     "metadata": {},
     "output_type": "display_data"
    },
    {
     "name": "stderr",
     "output_type": "stream",
     "text": [
      " 50%|████▉     | 54/109 [1:39:54<1:45:05, 114.65s/it]"
     ]
    },
    {
     "data": {
      "application/vnd.jupyter.widget-view+json": {
       "model_id": "08ac98da0750404fae8c21ff9c1bf26a",
       "version_major": 2,
       "version_minor": 0
      },
      "text/plain": [
       "Generating train split: 0 examples [00:00, ? examples/s]"
      ]
     },
     "metadata": {},
     "output_type": "display_data"
    },
    {
     "name": "stderr",
     "output_type": "stream",
     "text": [
      " 50%|█████     | 55/109 [1:41:24<1:36:41, 107.44s/it]"
     ]
    },
    {
     "data": {
      "application/vnd.jupyter.widget-view+json": {
       "model_id": "f6ef18b3231845939280a21f35fcc543",
       "version_major": 2,
       "version_minor": 0
      },
      "text/plain": [
       "Generating train split: 0 examples [00:00, ? examples/s]"
      ]
     },
     "metadata": {},
     "output_type": "display_data"
    },
    {
     "name": "stderr",
     "output_type": "stream",
     "text": [
      " 51%|█████▏    | 56/109 [1:42:50<1:29:14, 101.03s/it]"
     ]
    },
    {
     "data": {
      "application/vnd.jupyter.widget-view+json": {
       "model_id": "728101e6ae7e4267854f76df4c6e5c0b",
       "version_major": 2,
       "version_minor": 0
      },
      "text/plain": [
       "Generating train split: 0 examples [00:00, ? examples/s]"
      ]
     },
     "metadata": {},
     "output_type": "display_data"
    },
    {
     "name": "stderr",
     "output_type": "stream",
     "text": [
      " 52%|█████▏    | 57/109 [1:44:30<1:27:09, 100.57s/it]"
     ]
    },
    {
     "data": {
      "application/vnd.jupyter.widget-view+json": {
       "model_id": "84fa40939203489eb7f57fbbdef59faa",
       "version_major": 2,
       "version_minor": 0
      },
      "text/plain": [
       "Generating train split: 0 examples [00:00, ? examples/s]"
      ]
     },
     "metadata": {},
     "output_type": "display_data"
    },
    {
     "name": "stderr",
     "output_type": "stream",
     "text": [
      " 53%|█████▎    | 58/109 [1:45:57<1:22:10, 96.68s/it] "
     ]
    },
    {
     "data": {
      "application/vnd.jupyter.widget-view+json": {
       "model_id": "a60e5b48d9364c78821dba3125d2fa90",
       "version_major": 2,
       "version_minor": 0
      },
      "text/plain": [
       "Generating train split: 0 examples [00:00, ? examples/s]"
      ]
     },
     "metadata": {},
     "output_type": "display_data"
    },
    {
     "name": "stderr",
     "output_type": "stream",
     "text": [
      " 54%|█████▍    | 59/109 [1:47:25<1:18:24, 94.10s/it]"
     ]
    },
    {
     "data": {
      "application/vnd.jupyter.widget-view+json": {
       "model_id": "d4d53f09dd5c4c72a994f02e0818c1eb",
       "version_major": 2,
       "version_minor": 0
      },
      "text/plain": [
       "Generating train split: 0 examples [00:00, ? examples/s]"
      ]
     },
     "metadata": {},
     "output_type": "display_data"
    },
    {
     "name": "stderr",
     "output_type": "stream",
     "text": [
      " 55%|█████▌    | 60/109 [1:48:54<1:15:31, 92.47s/it]"
     ]
    },
    {
     "data": {
      "application/vnd.jupyter.widget-view+json": {
       "model_id": "8e6e6a36e9734b0c95ea59f36a83ac52",
       "version_major": 2,
       "version_minor": 0
      },
      "text/plain": [
       "Generating train split: 0 examples [00:00, ? examples/s]"
      ]
     },
     "metadata": {},
     "output_type": "display_data"
    },
    {
     "name": "stderr",
     "output_type": "stream",
     "text": [
      " 56%|█████▌    | 61/109 [1:50:30<1:14:53, 93.60s/it]"
     ]
    },
    {
     "data": {
      "application/vnd.jupyter.widget-view+json": {
       "model_id": "5bb5b753b6af44d38ffda998796b03f4",
       "version_major": 2,
       "version_minor": 0
      },
      "text/plain": [
       "Generating train split: 0 examples [00:00, ? examples/s]"
      ]
     },
     "metadata": {},
     "output_type": "display_data"
    },
    {
     "name": "stderr",
     "output_type": "stream",
     "text": [
      " 57%|█████▋    | 62/109 [1:52:01<1:12:38, 92.74s/it]"
     ]
    },
    {
     "data": {
      "application/vnd.jupyter.widget-view+json": {
       "model_id": "269a726cf88a47f195e6fdfcbe99805e",
       "version_major": 2,
       "version_minor": 0
      },
      "text/plain": [
       "Generating train split: 0 examples [00:00, ? examples/s]"
      ]
     },
     "metadata": {},
     "output_type": "display_data"
    },
    {
     "name": "stderr",
     "output_type": "stream",
     "text": [
      " 58%|█████▊    | 63/109 [1:53:31<1:10:31, 91.98s/it]"
     ]
    },
    {
     "data": {
      "application/vnd.jupyter.widget-view+json": {
       "model_id": "321b5fc8295c408c8cfcc096420ce02d",
       "version_major": 2,
       "version_minor": 0
      },
      "text/plain": [
       "Generating train split: 0 examples [00:00, ? examples/s]"
      ]
     },
     "metadata": {},
     "output_type": "display_data"
    },
    {
     "name": "stderr",
     "output_type": "stream",
     "text": [
      " 59%|█████▊    | 64/109 [1:55:01<1:08:34, 91.43s/it]"
     ]
    },
    {
     "data": {
      "application/vnd.jupyter.widget-view+json": {
       "model_id": "309d38e27d774a9cb6a37cc7456c2efc",
       "version_major": 2,
       "version_minor": 0
      },
      "text/plain": [
       "Generating train split: 0 examples [00:00, ? examples/s]"
      ]
     },
     "metadata": {},
     "output_type": "display_data"
    },
    {
     "name": "stderr",
     "output_type": "stream",
     "text": [
      " 60%|█████▉    | 65/109 [1:56:37<1:08:01, 92.75s/it]"
     ]
    },
    {
     "data": {
      "application/vnd.jupyter.widget-view+json": {
       "model_id": "1be17a462cfb4e2caf9bf048fe7299b7",
       "version_major": 2,
       "version_minor": 0
      },
      "text/plain": [
       "Generating train split: 0 examples [00:00, ? examples/s]"
      ]
     },
     "metadata": {},
     "output_type": "display_data"
    },
    {
     "name": "stderr",
     "output_type": "stream",
     "text": [
      " 61%|██████    | 66/109 [1:58:08<1:05:58, 92.05s/it]"
     ]
    },
    {
     "data": {
      "application/vnd.jupyter.widget-view+json": {
       "model_id": "7c90c0fdb0a645f3ae68ca8ff4ac3249",
       "version_major": 2,
       "version_minor": 0
      },
      "text/plain": [
       "Generating train split: 0 examples [00:00, ? examples/s]"
      ]
     },
     "metadata": {},
     "output_type": "display_data"
    },
    {
     "name": "stderr",
     "output_type": "stream",
     "text": [
      " 61%|██████▏   | 67/109 [1:59:34<1:03:19, 90.47s/it]"
     ]
    },
    {
     "data": {
      "application/vnd.jupyter.widget-view+json": {
       "model_id": "e7a4877b12274e2c8905a8df5efa5b97",
       "version_major": 2,
       "version_minor": 0
      },
      "text/plain": [
       "Generating train split: 0 examples [00:00, ? examples/s]"
      ]
     },
     "metadata": {},
     "output_type": "display_data"
    },
    {
     "name": "stderr",
     "output_type": "stream",
     "text": [
      " 62%|██████▏   | 68/109 [2:01:07<1:02:09, 90.96s/it]"
     ]
    },
    {
     "data": {
      "application/vnd.jupyter.widget-view+json": {
       "model_id": "aa0e8c4fc91643749e6726c823676bc2",
       "version_major": 2,
       "version_minor": 0
      },
      "text/plain": [
       "Generating train split: 0 examples [00:00, ? examples/s]"
      ]
     },
     "metadata": {},
     "output_type": "display_data"
    },
    {
     "name": "stderr",
     "output_type": "stream",
     "text": [
      " 63%|██████▎   | 69/109 [2:02:42<1:01:32, 92.31s/it]"
     ]
    },
    {
     "data": {
      "application/vnd.jupyter.widget-view+json": {
       "model_id": "b6b670bc8f0e4c3cbd368f20b6bc7faf",
       "version_major": 2,
       "version_minor": 0
      },
      "text/plain": [
       "Generating train split: 0 examples [00:00, ? examples/s]"
      ]
     },
     "metadata": {},
     "output_type": "display_data"
    },
    {
     "name": "stderr",
     "output_type": "stream",
     "text": [
      " 64%|██████▍   | 70/109 [2:03:37<52:47, 81.22s/it]  "
     ]
    },
    {
     "data": {
      "application/vnd.jupyter.widget-view+json": {
       "model_id": "256cccb88f214be78c58ea317f68b0c5",
       "version_major": 2,
       "version_minor": 0
      },
      "text/plain": [
       "Generating train split: 0 examples [00:00, ? examples/s]"
      ]
     },
     "metadata": {},
     "output_type": "display_data"
    },
    {
     "name": "stderr",
     "output_type": "stream",
     "text": [
      " 65%|██████▌   | 71/109 [2:05:07<53:03, 83.79s/it]"
     ]
    },
    {
     "data": {
      "application/vnd.jupyter.widget-view+json": {
       "model_id": "950ba516758c4fad942c9076cf5feb4a",
       "version_major": 2,
       "version_minor": 0
      },
      "text/plain": [
       "Generating train split: 0 examples [00:00, ? examples/s]"
      ]
     },
     "metadata": {},
     "output_type": "display_data"
    },
    {
     "name": "stderr",
     "output_type": "stream",
     "text": [
      " 66%|██████▌   | 72/109 [2:06:33<52:02, 84.40s/it]"
     ]
    },
    {
     "data": {
      "application/vnd.jupyter.widget-view+json": {
       "model_id": "cf4fcd8aa7884e179ed6bab311caf76d",
       "version_major": 2,
       "version_minor": 0
      },
      "text/plain": [
       "Generating train split: 0 examples [00:00, ? examples/s]"
      ]
     },
     "metadata": {},
     "output_type": "display_data"
    },
    {
     "name": "stderr",
     "output_type": "stream",
     "text": [
      " 67%|██████▋   | 73/109 [2:08:07<52:26, 87.41s/it]"
     ]
    },
    {
     "data": {
      "application/vnd.jupyter.widget-view+json": {
       "model_id": "d43db00daeb8482ba723e912a9491621",
       "version_major": 2,
       "version_minor": 0
      },
      "text/plain": [
       "Generating train split: 0 examples [00:00, ? examples/s]"
      ]
     },
     "metadata": {},
     "output_type": "display_data"
    },
    {
     "name": "stderr",
     "output_type": "stream",
     "text": [
      " 68%|██████▊   | 74/109 [2:09:37<51:27, 88.22s/it]"
     ]
    },
    {
     "data": {
      "application/vnd.jupyter.widget-view+json": {
       "model_id": "ed83478262414f94b9a97b9e45860e77",
       "version_major": 2,
       "version_minor": 0
      },
      "text/plain": [
       "Generating train split: 0 examples [00:00, ? examples/s]"
      ]
     },
     "metadata": {},
     "output_type": "display_data"
    },
    {
     "name": "stderr",
     "output_type": "stream",
     "text": [
      " 69%|██████▉   | 75/109 [2:11:07<50:15, 88.68s/it]"
     ]
    },
    {
     "data": {
      "application/vnd.jupyter.widget-view+json": {
       "model_id": "a626ad85d6364e3ebb751a6260a7f75a",
       "version_major": 2,
       "version_minor": 0
      },
      "text/plain": [
       "Generating train split: 0 examples [00:00, ? examples/s]"
      ]
     },
     "metadata": {},
     "output_type": "display_data"
    },
    {
     "name": "stderr",
     "output_type": "stream",
     "text": [
      " 70%|██████▉   | 76/109 [2:12:29<47:40, 86.68s/it]"
     ]
    },
    {
     "data": {
      "application/vnd.jupyter.widget-view+json": {
       "model_id": "42b6860ab38b4052a4fd124dd37581ec",
       "version_major": 2,
       "version_minor": 0
      },
      "text/plain": [
       "Generating train split: 0 examples [00:00, ? examples/s]"
      ]
     },
     "metadata": {},
     "output_type": "display_data"
    },
    {
     "name": "stderr",
     "output_type": "stream",
     "text": [
      " 71%|███████   | 77/109 [2:14:04<47:32, 89.14s/it]"
     ]
    },
    {
     "data": {
      "application/vnd.jupyter.widget-view+json": {
       "model_id": "4d72ad22dad545aabd88d53ba0a19878",
       "version_major": 2,
       "version_minor": 0
      },
      "text/plain": [
       "Generating train split: 0 examples [00:00, ? examples/s]"
      ]
     },
     "metadata": {},
     "output_type": "display_data"
    },
    {
     "name": "stderr",
     "output_type": "stream",
     "text": [
      " 72%|███████▏  | 78/109 [2:15:33<45:59, 89.02s/it]"
     ]
    },
    {
     "data": {
      "application/vnd.jupyter.widget-view+json": {
       "model_id": "b07aaaf8b100444f8fb6040ecadff56c",
       "version_major": 2,
       "version_minor": 0
      },
      "text/plain": [
       "Generating train split: 0 examples [00:00, ? examples/s]"
      ]
     },
     "metadata": {},
     "output_type": "display_data"
    },
    {
     "name": "stderr",
     "output_type": "stream",
     "text": [
      " 72%|███████▏  | 79/109 [2:17:04<44:49, 89.67s/it]"
     ]
    },
    {
     "data": {
      "application/vnd.jupyter.widget-view+json": {
       "model_id": "da8fbf16b99241e1a72e49ec7fd631d4",
       "version_major": 2,
       "version_minor": 0
      },
      "text/plain": [
       "Generating train split: 0 examples [00:00, ? examples/s]"
      ]
     },
     "metadata": {},
     "output_type": "display_data"
    },
    {
     "name": "stderr",
     "output_type": "stream",
     "text": [
      " 73%|███████▎  | 80/109 [2:18:29<42:42, 88.37s/it]"
     ]
    },
    {
     "data": {
      "application/vnd.jupyter.widget-view+json": {
       "model_id": "7202f7e92c834ee2b1d30d7260c1a56f",
       "version_major": 2,
       "version_minor": 0
      },
      "text/plain": [
       "Generating train split: 0 examples [00:00, ? examples/s]"
      ]
     },
     "metadata": {},
     "output_type": "display_data"
    },
    {
     "name": "stderr",
     "output_type": "stream",
     "text": [
      " 74%|███████▍  | 81/109 [2:20:08<42:44, 91.58s/it]"
     ]
    },
    {
     "data": {
      "application/vnd.jupyter.widget-view+json": {
       "model_id": "50ad57cfc4d54d42945c81bf9285c269",
       "version_major": 2,
       "version_minor": 0
      },
      "text/plain": [
       "Generating train split: 0 examples [00:00, ? examples/s]"
      ]
     },
     "metadata": {},
     "output_type": "display_data"
    },
    {
     "name": "stderr",
     "output_type": "stream",
     "text": [
      " 75%|███████▌  | 82/109 [2:21:41<41:19, 91.83s/it]"
     ]
    },
    {
     "data": {
      "application/vnd.jupyter.widget-view+json": {
       "model_id": "3bdfc6aa4b404b79a64770cb10ccb88c",
       "version_major": 2,
       "version_minor": 0
      },
      "text/plain": [
       "Generating train split: 0 examples [00:00, ? examples/s]"
      ]
     },
     "metadata": {},
     "output_type": "display_data"
    },
    {
     "name": "stderr",
     "output_type": "stream",
     "text": [
      " 76%|███████▌  | 83/109 [2:23:10<39:27, 91.06s/it]"
     ]
    },
    {
     "data": {
      "application/vnd.jupyter.widget-view+json": {
       "model_id": "9e08d17413034e6da528728321d20654",
       "version_major": 2,
       "version_minor": 0
      },
      "text/plain": [
       "Generating train split: 0 examples [00:00, ? examples/s]"
      ]
     },
     "metadata": {},
     "output_type": "display_data"
    },
    {
     "name": "stderr",
     "output_type": "stream",
     "text": [
      " 77%|███████▋  | 84/109 [2:24:36<37:20, 89.63s/it]"
     ]
    },
    {
     "data": {
      "application/vnd.jupyter.widget-view+json": {
       "model_id": "db70ee0c59a94535964b7c5c5f9e9f2f",
       "version_major": 2,
       "version_minor": 0
      },
      "text/plain": [
       "Generating train split: 0 examples [00:00, ? examples/s]"
      ]
     },
     "metadata": {},
     "output_type": "display_data"
    },
    {
     "name": "stderr",
     "output_type": "stream",
     "text": [
      " 78%|███████▊  | 85/109 [2:25:46<33:24, 83.53s/it]"
     ]
    },
    {
     "data": {
      "application/vnd.jupyter.widget-view+json": {
       "model_id": "32ba79ed9e474480abb72a2b1a94f867",
       "version_major": 2,
       "version_minor": 0
      },
      "text/plain": [
       "Generating train split: 0 examples [00:00, ? examples/s]"
      ]
     },
     "metadata": {},
     "output_type": "display_data"
    },
    {
     "name": "stderr",
     "output_type": "stream",
     "text": [
      " 79%|███████▉  | 86/109 [2:26:33<27:49, 72.61s/it]"
     ]
    },
    {
     "data": {
      "application/vnd.jupyter.widget-view+json": {
       "model_id": "d8e5c7be35e84f4e89c2e0dee2a73479",
       "version_major": 2,
       "version_minor": 0
      },
      "text/plain": [
       "Generating train split: 0 examples [00:00, ? examples/s]"
      ]
     },
     "metadata": {},
     "output_type": "display_data"
    },
    {
     "name": "stderr",
     "output_type": "stream",
     "text": [
      " 80%|███████▉  | 87/109 [2:27:22<24:04, 65.67s/it]"
     ]
    },
    {
     "data": {
      "application/vnd.jupyter.widget-view+json": {
       "model_id": "f1803fff093241bb8d5c1da94247db01",
       "version_major": 2,
       "version_minor": 0
      },
      "text/plain": [
       "Generating train split: 0 examples [00:00, ? examples/s]"
      ]
     },
     "metadata": {},
     "output_type": "display_data"
    },
    {
     "name": "stderr",
     "output_type": "stream",
     "text": [
      " 81%|████████  | 88/109 [2:28:10<21:03, 60.17s/it]"
     ]
    },
    {
     "data": {
      "application/vnd.jupyter.widget-view+json": {
       "model_id": "f46ba909a0864ef487dc064107d73517",
       "version_major": 2,
       "version_minor": 0
      },
      "text/plain": [
       "Generating train split: 0 examples [00:00, ? examples/s]"
      ]
     },
     "metadata": {},
     "output_type": "display_data"
    },
    {
     "name": "stderr",
     "output_type": "stream",
     "text": [
      " 82%|████████▏ | 89/109 [2:29:03<19:21, 58.07s/it]"
     ]
    },
    {
     "data": {
      "application/vnd.jupyter.widget-view+json": {
       "model_id": "4568e5d35f30497fb1a04460ff30bc5d",
       "version_major": 2,
       "version_minor": 0
      },
      "text/plain": [
       "Generating train split: 0 examples [00:00, ? examples/s]"
      ]
     },
     "metadata": {},
     "output_type": "display_data"
    },
    {
     "name": "stderr",
     "output_type": "stream",
     "text": [
      " 83%|████████▎ | 90/109 [2:29:53<17:39, 55.74s/it]"
     ]
    },
    {
     "data": {
      "application/vnd.jupyter.widget-view+json": {
       "model_id": "02a422978f6c4993aaa3dc727539d175",
       "version_major": 2,
       "version_minor": 0
      },
      "text/plain": [
       "Generating train split: 0 examples [00:00, ? examples/s]"
      ]
     },
     "metadata": {},
     "output_type": "display_data"
    },
    {
     "name": "stderr",
     "output_type": "stream",
     "text": [
      " 83%|████████▎ | 91/109 [2:30:42<16:07, 53.78s/it]"
     ]
    },
    {
     "data": {
      "application/vnd.jupyter.widget-view+json": {
       "model_id": "2a90307b90984b499f18e91ec16b5151",
       "version_major": 2,
       "version_minor": 0
      },
      "text/plain": [
       "Generating train split: 0 examples [00:00, ? examples/s]"
      ]
     },
     "metadata": {},
     "output_type": "display_data"
    },
    {
     "name": "stderr",
     "output_type": "stream",
     "text": [
      " 84%|████████▍ | 92/109 [2:31:29<14:35, 51.52s/it]"
     ]
    },
    {
     "data": {
      "application/vnd.jupyter.widget-view+json": {
       "model_id": "70b35b40752a4e97a3b3cbdd12d01578",
       "version_major": 2,
       "version_minor": 0
      },
      "text/plain": [
       "Generating train split: 0 examples [00:00, ? examples/s]"
      ]
     },
     "metadata": {},
     "output_type": "display_data"
    },
    {
     "name": "stderr",
     "output_type": "stream",
     "text": [
      " 85%|████████▌ | 93/109 [2:32:21<13:48, 51.77s/it]"
     ]
    },
    {
     "data": {
      "application/vnd.jupyter.widget-view+json": {
       "model_id": "3c8f7e444e4b42a88a4000b0f60139c2",
       "version_major": 2,
       "version_minor": 0
      },
      "text/plain": [
       "Generating train split: 0 examples [00:00, ? examples/s]"
      ]
     },
     "metadata": {},
     "output_type": "display_data"
    },
    {
     "name": "stderr",
     "output_type": "stream",
     "text": [
      " 86%|████████▌ | 94/109 [2:33:08<12:35, 50.36s/it]"
     ]
    },
    {
     "data": {
      "application/vnd.jupyter.widget-view+json": {
       "model_id": "90f42705d12e43baa80f2d2a05a99bfd",
       "version_major": 2,
       "version_minor": 0
      },
      "text/plain": [
       "Generating train split: 0 examples [00:00, ? examples/s]"
      ]
     },
     "metadata": {},
     "output_type": "display_data"
    },
    {
     "name": "stderr",
     "output_type": "stream",
     "text": [
      " 87%|████████▋ | 95/109 [2:33:58<11:41, 50.14s/it]"
     ]
    },
    {
     "data": {
      "application/vnd.jupyter.widget-view+json": {
       "model_id": "b6f514bbe27443b0ac9e0992713cd3e3",
       "version_major": 2,
       "version_minor": 0
      },
      "text/plain": [
       "Generating train split: 0 examples [00:00, ? examples/s]"
      ]
     },
     "metadata": {},
     "output_type": "display_data"
    },
    {
     "name": "stderr",
     "output_type": "stream",
     "text": [
      " 88%|████████▊ | 96/109 [2:34:43<10:34, 48.82s/it]"
     ]
    },
    {
     "data": {
      "application/vnd.jupyter.widget-view+json": {
       "model_id": "0ce8240a8493450a968b31a9e2998762",
       "version_major": 2,
       "version_minor": 0
      },
      "text/plain": [
       "Generating train split: 0 examples [00:00, ? examples/s]"
      ]
     },
     "metadata": {},
     "output_type": "display_data"
    },
    {
     "name": "stderr",
     "output_type": "stream",
     "text": [
      " 89%|████████▉ | 97/109 [2:35:37<10:04, 50.39s/it]"
     ]
    },
    {
     "data": {
      "application/vnd.jupyter.widget-view+json": {
       "model_id": "5f6273a9043941ceaed836df0c67be5b",
       "version_major": 2,
       "version_minor": 0
      },
      "text/plain": [
       "Generating train split: 0 examples [00:00, ? examples/s]"
      ]
     },
     "metadata": {},
     "output_type": "display_data"
    },
    {
     "name": "stderr",
     "output_type": "stream",
     "text": [
      " 90%|████████▉ | 98/109 [2:36:26<09:09, 49.91s/it]"
     ]
    },
    {
     "data": {
      "application/vnd.jupyter.widget-view+json": {
       "model_id": "877a7e1ef42749df9e633616cba3c31d",
       "version_major": 2,
       "version_minor": 0
      },
      "text/plain": [
       "Generating train split: 0 examples [00:00, ? examples/s]"
      ]
     },
     "metadata": {},
     "output_type": "display_data"
    },
    {
     "name": "stderr",
     "output_type": "stream",
     "text": [
      " 91%|█████████ | 99/109 [2:37:14<08:13, 49.32s/it]"
     ]
    },
    {
     "data": {
      "application/vnd.jupyter.widget-view+json": {
       "model_id": "398d74dc3b9c4176a0115bc0d2c76863",
       "version_major": 2,
       "version_minor": 0
      },
      "text/plain": [
       "Generating train split: 0 examples [00:00, ? examples/s]"
      ]
     },
     "metadata": {},
     "output_type": "display_data"
    },
    {
     "name": "stderr",
     "output_type": "stream",
     "text": [
      " 92%|█████████▏| 100/109 [2:38:18<08:03, 53.69s/it]"
     ]
    },
    {
     "data": {
      "application/vnd.jupyter.widget-view+json": {
       "model_id": "b4726e0f61d14325815a48a6550ef578",
       "version_major": 2,
       "version_minor": 0
      },
      "text/plain": [
       "Generating train split: 0 examples [00:00, ? examples/s]"
      ]
     },
     "metadata": {},
     "output_type": "display_data"
    },
    {
     "name": "stderr",
     "output_type": "stream",
     "text": [
      " 93%|█████████▎| 101/109 [2:39:58<09:00, 67.51s/it]"
     ]
    },
    {
     "data": {
      "application/vnd.jupyter.widget-view+json": {
       "model_id": "4c7167e66a8a4fe5a8544a90516ec059",
       "version_major": 2,
       "version_minor": 0
      },
      "text/plain": [
       "Generating train split: 0 examples [00:00, ? examples/s]"
      ]
     },
     "metadata": {},
     "output_type": "display_data"
    },
    {
     "name": "stderr",
     "output_type": "stream",
     "text": [
      " 94%|█████████▎| 102/109 [2:41:35<08:54, 76.42s/it]"
     ]
    },
    {
     "data": {
      "application/vnd.jupyter.widget-view+json": {
       "model_id": "9bcb561518824aee9e42081ce871ccf1",
       "version_major": 2,
       "version_minor": 0
      },
      "text/plain": [
       "Generating train split: 0 examples [00:00, ? examples/s]"
      ]
     },
     "metadata": {},
     "output_type": "display_data"
    },
    {
     "name": "stderr",
     "output_type": "stream",
     "text": [
      " 94%|█████████▍| 103/109 [2:43:05<08:03, 80.52s/it]"
     ]
    },
    {
     "data": {
      "application/vnd.jupyter.widget-view+json": {
       "model_id": "debcf0db64e246ffae429f0b87883d35",
       "version_major": 2,
       "version_minor": 0
      },
      "text/plain": [
       "Generating train split: 0 examples [00:00, ? examples/s]"
      ]
     },
     "metadata": {},
     "output_type": "display_data"
    },
    {
     "name": "stderr",
     "output_type": "stream",
     "text": [
      " 95%|█████████▌| 104/109 [2:44:32<06:51, 82.38s/it]"
     ]
    },
    {
     "data": {
      "application/vnd.jupyter.widget-view+json": {
       "model_id": "862c9d352fdd4c04bd9371875d1b197d",
       "version_major": 2,
       "version_minor": 0
      },
      "text/plain": [
       "Generating train split: 0 examples [00:00, ? examples/s]"
      ]
     },
     "metadata": {},
     "output_type": "display_data"
    },
    {
     "name": "stderr",
     "output_type": "stream",
     "text": [
      " 96%|█████████▋| 105/109 [2:46:15<05:55, 88.77s/it]"
     ]
    },
    {
     "data": {
      "application/vnd.jupyter.widget-view+json": {
       "model_id": "4f6a65f1101948bd9b642af9d943c33f",
       "version_major": 2,
       "version_minor": 0
      },
      "text/plain": [
       "Generating train split: 0 examples [00:00, ? examples/s]"
      ]
     },
     "metadata": {},
     "output_type": "display_data"
    },
    {
     "name": "stderr",
     "output_type": "stream",
     "text": [
      " 97%|█████████▋| 106/109 [2:47:51<04:32, 90.68s/it]"
     ]
    },
    {
     "data": {
      "application/vnd.jupyter.widget-view+json": {
       "model_id": "a52cb1725bbf4f2599ba2f7560433433",
       "version_major": 2,
       "version_minor": 0
      },
      "text/plain": [
       "Generating train split: 0 examples [00:00, ? examples/s]"
      ]
     },
     "metadata": {},
     "output_type": "display_data"
    },
    {
     "name": "stderr",
     "output_type": "stream",
     "text": [
      " 98%|█████████▊| 107/109 [2:49:22<03:01, 90.98s/it]"
     ]
    },
    {
     "data": {
      "application/vnd.jupyter.widget-view+json": {
       "model_id": "0f41b52ac8204704866616afb150cefe",
       "version_major": 2,
       "version_minor": 0
      },
      "text/plain": [
       "Generating train split: 0 examples [00:00, ? examples/s]"
      ]
     },
     "metadata": {},
     "output_type": "display_data"
    },
    {
     "name": "stderr",
     "output_type": "stream",
     "text": [
      " 99%|█████████▉| 108/109 [2:51:03<01:33, 93.83s/it]"
     ]
    },
    {
     "data": {
      "application/vnd.jupyter.widget-view+json": {
       "model_id": "52034769367c42a299aea354cfb1e728",
       "version_major": 2,
       "version_minor": 0
      },
      "text/plain": [
       "Generating train split: 0 examples [00:00, ? examples/s]"
      ]
     },
     "metadata": {},
     "output_type": "display_data"
    },
    {
     "name": "stderr",
     "output_type": "stream",
     "text": [
      "100%|██████████| 109/109 [2:52:41<00:00, 95.06s/it]\n"
     ]
    }
   ],
   "source": [
    "# !!!!!!!!!!!! ATTENTION !!!!!!!!!!!!!!!!!!!!!!!!!!\n",
    "# It executes for more than 3 hours\n",
    "# Creating LOB features\n",
    "\n",
    "# df_full_lob = pd.DataFrame()\n",
    "# thresholds = [1, 5, 10]\n",
    "\n",
    "# for file in tqdm(lob_zip_files):\n",
    "#     single_file_ob_dataset = [file]\n",
    "#     lob_dataset = load_dataset(\"csv\", data_files=single_file_ob_dataset)\n",
    "\n",
    "#     lob_dataset = lob_dataset['train'].to_pandas()\n",
    "#     lob_dataset['datetime'] = pd.to_datetime(lob_dataset['time'], unit='s', utc=True)\n",
    "#     lob_dataset.drop(['time'], axis=1, inplace = True)\n",
    "#     lob_dataset.rename({col:col.strip() for col in lob_dataset.columns}, axis=1, inplace=True)\n",
    "\n",
    "#     lob_dataset_grouped = lob_dataset.groupby('datetime').apply(lambda group: compute_features(group, thresholds), include_groups=False).reset_index()\n",
    "#     df_full_lob = pd.concat([df_full_lob, lob_dataset_grouped], ignore_index=True)"
   ]
  },
  {
   "cell_type": "code",
   "execution_count": null,
   "metadata": {},
   "outputs": [
    {
     "data": {
      "text/html": [
       "<div>\n",
       "<style scoped>\n",
       "    .dataframe tbody tr th:only-of-type {\n",
       "        vertical-align: middle;\n",
       "    }\n",
       "\n",
       "    .dataframe tbody tr th {\n",
       "        vertical-align: top;\n",
       "    }\n",
       "\n",
       "    .dataframe thead th {\n",
       "        text-align: right;\n",
       "    }\n",
       "</style>\n",
       "<table border=\"1\" class=\"dataframe\">\n",
       "  <thead>\n",
       "    <tr style=\"text-align: right;\">\n",
       "      <th></th>\n",
       "      <th>datetime</th>\n",
       "      <th>Best Ask</th>\n",
       "      <th>Best Bid</th>\n",
       "      <th>ask_volume</th>\n",
       "      <th>bid_volume</th>\n",
       "      <th>ask_slope_1</th>\n",
       "      <th>ask_slope_5</th>\n",
       "      <th>ask_slope_10</th>\n",
       "      <th>bid_slope_1</th>\n",
       "      <th>bid_slope_5</th>\n",
       "      <th>bid_slope_10</th>\n",
       "    </tr>\n",
       "  </thead>\n",
       "  <tbody>\n",
       "    <tr>\n",
       "      <th>8640</th>\n",
       "      <td>2018-06-04 22:00:02+00:00</td>\n",
       "      <td>7543.19</td>\n",
       "      <td>7537.00</td>\n",
       "      <td>2695.804973</td>\n",
       "      <td>586356.113693</td>\n",
       "      <td>1761.630667</td>\n",
       "      <td>2695.804973</td>\n",
       "      <td>2695.804973</td>\n",
       "      <td>3.972121</td>\n",
       "      <td>53.502450</td>\n",
       "      <td>160.246934</td>\n",
       "    </tr>\n",
       "    <tr>\n",
       "      <th>8641</th>\n",
       "      <td>2018-06-04 22:00:34+00:00</td>\n",
       "      <td>7543.19</td>\n",
       "      <td>7537.00</td>\n",
       "      <td>2696.561478</td>\n",
       "      <td>586351.269401</td>\n",
       "      <td>1762.459233</td>\n",
       "      <td>2696.561478</td>\n",
       "      <td>2696.561478</td>\n",
       "      <td>3.339124</td>\n",
       "      <td>52.739443</td>\n",
       "      <td>155.402642</td>\n",
       "    </tr>\n",
       "    <tr>\n",
       "      <th>8642</th>\n",
       "      <td>2018-06-04 22:01:01+00:00</td>\n",
       "      <td>7541.97</td>\n",
       "      <td>7537.00</td>\n",
       "      <td>2699.165417</td>\n",
       "      <td>586350.938081</td>\n",
       "      <td>1765.312385</td>\n",
       "      <td>2699.165417</td>\n",
       "      <td>2699.165417</td>\n",
       "      <td>4.017044</td>\n",
       "      <td>52.408273</td>\n",
       "      <td>155.071322</td>\n",
       "    </tr>\n",
       "    <tr>\n",
       "      <th>8643</th>\n",
       "      <td>2018-06-04 22:01:33+00:00</td>\n",
       "      <td>7541.97</td>\n",
       "      <td>7537.01</td>\n",
       "      <td>2656.934508</td>\n",
       "      <td>586307.355517</td>\n",
       "      <td>1724.074201</td>\n",
       "      <td>2656.934508</td>\n",
       "      <td>2656.934508</td>\n",
       "      <td>4.090007</td>\n",
       "      <td>47.761226</td>\n",
       "      <td>159.376480</td>\n",
       "    </tr>\n",
       "    <tr>\n",
       "      <th>8644</th>\n",
       "      <td>2018-06-04 22:02:02+00:00</td>\n",
       "      <td>7541.90</td>\n",
       "      <td>7537.00</td>\n",
       "      <td>2657.946212</td>\n",
       "      <td>586317.596946</td>\n",
       "      <td>1723.843180</td>\n",
       "      <td>2657.946212</td>\n",
       "      <td>2657.946212</td>\n",
       "      <td>3.831055</td>\n",
       "      <td>46.578294</td>\n",
       "      <td>158.194750</td>\n",
       "    </tr>\n",
       "  </tbody>\n",
       "</table>\n",
       "</div>"
      ],
      "text/plain": [
       "                      datetime  Best Ask  Best Bid   ask_volume  \\\n",
       "8640 2018-06-04 22:00:02+00:00   7543.19   7537.00  2695.804973   \n",
       "8641 2018-06-04 22:00:34+00:00   7543.19   7537.00  2696.561478   \n",
       "8642 2018-06-04 22:01:01+00:00   7541.97   7537.00  2699.165417   \n",
       "8643 2018-06-04 22:01:33+00:00   7541.97   7537.01  2656.934508   \n",
       "8644 2018-06-04 22:02:02+00:00   7541.90   7537.00  2657.946212   \n",
       "\n",
       "         bid_volume  ask_slope_1  ask_slope_5  ask_slope_10  bid_slope_1  \\\n",
       "8640  586356.113693  1761.630667  2695.804973   2695.804973     3.972121   \n",
       "8641  586351.269401  1762.459233  2696.561478   2696.561478     3.339124   \n",
       "8642  586350.938081  1765.312385  2699.165417   2699.165417     4.017044   \n",
       "8643  586307.355517  1724.074201  2656.934508   2656.934508     4.090007   \n",
       "8644  586317.596946  1723.843180  2657.946212   2657.946212     3.831055   \n",
       "\n",
       "      bid_slope_5  bid_slope_10  \n",
       "8640    53.502450    160.246934  \n",
       "8641    52.739443    155.402642  \n",
       "8642    52.408273    155.071322  \n",
       "8643    47.761226    159.376480  \n",
       "8644    46.578294    158.194750  "
      ]
     },
     "execution_count": 74,
     "metadata": {},
     "output_type": "execute_result"
    }
   ],
   "source": [
    "# df_full_lob.head()"
   ]
  },
  {
   "cell_type": "code",
   "execution_count": null,
   "metadata": {},
   "outputs": [],
   "source": [
    "# df_full_lob.sort_values('datetime', inplace=True)\n",
    "# df_full_lob.reset_index(drop=True, inplace=True)"
   ]
  },
  {
   "cell_type": "code",
   "execution_count": null,
   "metadata": {},
   "outputs": [
    {
     "data": {
      "text/html": [
       "<div>\n",
       "<style scoped>\n",
       "    .dataframe tbody tr th:only-of-type {\n",
       "        vertical-align: middle;\n",
       "    }\n",
       "\n",
       "    .dataframe tbody tr th {\n",
       "        vertical-align: top;\n",
       "    }\n",
       "\n",
       "    .dataframe thead th {\n",
       "        text-align: right;\n",
       "    }\n",
       "</style>\n",
       "<table border=\"1\" class=\"dataframe\">\n",
       "  <thead>\n",
       "    <tr style=\"text-align: right;\">\n",
       "      <th></th>\n",
       "      <th>datetime</th>\n",
       "      <th>Best Ask</th>\n",
       "      <th>Best Bid</th>\n",
       "      <th>ask_volume</th>\n",
       "      <th>bid_volume</th>\n",
       "      <th>ask_slope_1</th>\n",
       "      <th>ask_slope_5</th>\n",
       "      <th>ask_slope_10</th>\n",
       "      <th>bid_slope_1</th>\n",
       "      <th>bid_slope_5</th>\n",
       "      <th>bid_slope_10</th>\n",
       "      <th>spread</th>\n",
       "      <th>lob_volume_imbalance</th>\n",
       "      <th>slope_imbalance_1</th>\n",
       "      <th>slope_imbalance_5</th>\n",
       "      <th>slope_imbalance_10</th>\n",
       "    </tr>\n",
       "  </thead>\n",
       "  <tbody>\n",
       "    <tr>\n",
       "      <th>8640</th>\n",
       "      <td>2018-06-04 22:00:02+00:00</td>\n",
       "      <td>7543.19</td>\n",
       "      <td>7537.00</td>\n",
       "      <td>2695.804973</td>\n",
       "      <td>586356.113693</td>\n",
       "      <td>1761.630667</td>\n",
       "      <td>2695.804973</td>\n",
       "      <td>2695.804973</td>\n",
       "      <td>3.972121</td>\n",
       "      <td>53.502450</td>\n",
       "      <td>160.246934</td>\n",
       "      <td>6.19</td>\n",
       "      <td>583660.308720</td>\n",
       "      <td>1757.658546</td>\n",
       "      <td>2642.302523</td>\n",
       "      <td>2535.558040</td>\n",
       "    </tr>\n",
       "    <tr>\n",
       "      <th>8641</th>\n",
       "      <td>2018-06-04 22:00:34+00:00</td>\n",
       "      <td>7543.19</td>\n",
       "      <td>7537.00</td>\n",
       "      <td>2696.561478</td>\n",
       "      <td>586351.269401</td>\n",
       "      <td>1762.459233</td>\n",
       "      <td>2696.561478</td>\n",
       "      <td>2696.561478</td>\n",
       "      <td>3.339124</td>\n",
       "      <td>52.739443</td>\n",
       "      <td>155.402642</td>\n",
       "      <td>6.19</td>\n",
       "      <td>583654.707923</td>\n",
       "      <td>1759.120109</td>\n",
       "      <td>2643.822035</td>\n",
       "      <td>2541.158836</td>\n",
       "    </tr>\n",
       "    <tr>\n",
       "      <th>8642</th>\n",
       "      <td>2018-06-04 22:01:01+00:00</td>\n",
       "      <td>7541.97</td>\n",
       "      <td>7537.00</td>\n",
       "      <td>2699.165417</td>\n",
       "      <td>586350.938081</td>\n",
       "      <td>1765.312385</td>\n",
       "      <td>2699.165417</td>\n",
       "      <td>2699.165417</td>\n",
       "      <td>4.017044</td>\n",
       "      <td>52.408273</td>\n",
       "      <td>155.071322</td>\n",
       "      <td>4.97</td>\n",
       "      <td>583651.772664</td>\n",
       "      <td>1761.295341</td>\n",
       "      <td>2646.757144</td>\n",
       "      <td>2544.094095</td>\n",
       "    </tr>\n",
       "    <tr>\n",
       "      <th>8643</th>\n",
       "      <td>2018-06-04 22:01:33+00:00</td>\n",
       "      <td>7541.97</td>\n",
       "      <td>7537.01</td>\n",
       "      <td>2656.934508</td>\n",
       "      <td>586307.355517</td>\n",
       "      <td>1724.074201</td>\n",
       "      <td>2656.934508</td>\n",
       "      <td>2656.934508</td>\n",
       "      <td>4.090007</td>\n",
       "      <td>47.761226</td>\n",
       "      <td>159.376480</td>\n",
       "      <td>4.96</td>\n",
       "      <td>583650.421009</td>\n",
       "      <td>1719.984195</td>\n",
       "      <td>2609.173283</td>\n",
       "      <td>2497.558029</td>\n",
       "    </tr>\n",
       "    <tr>\n",
       "      <th>8644</th>\n",
       "      <td>2018-06-04 22:02:02+00:00</td>\n",
       "      <td>7541.90</td>\n",
       "      <td>7537.00</td>\n",
       "      <td>2657.946212</td>\n",
       "      <td>586317.596946</td>\n",
       "      <td>1723.843180</td>\n",
       "      <td>2657.946212</td>\n",
       "      <td>2657.946212</td>\n",
       "      <td>3.831055</td>\n",
       "      <td>46.578294</td>\n",
       "      <td>158.194750</td>\n",
       "      <td>4.90</td>\n",
       "      <td>583659.650734</td>\n",
       "      <td>1720.012125</td>\n",
       "      <td>2611.367918</td>\n",
       "      <td>2499.751462</td>\n",
       "    </tr>\n",
       "  </tbody>\n",
       "</table>\n",
       "</div>"
      ],
      "text/plain": [
       "                      datetime  Best Ask  Best Bid   ask_volume  \\\n",
       "8640 2018-06-04 22:00:02+00:00   7543.19   7537.00  2695.804973   \n",
       "8641 2018-06-04 22:00:34+00:00   7543.19   7537.00  2696.561478   \n",
       "8642 2018-06-04 22:01:01+00:00   7541.97   7537.00  2699.165417   \n",
       "8643 2018-06-04 22:01:33+00:00   7541.97   7537.01  2656.934508   \n",
       "8644 2018-06-04 22:02:02+00:00   7541.90   7537.00  2657.946212   \n",
       "\n",
       "         bid_volume  ask_slope_1  ask_slope_5  ask_slope_10  bid_slope_1  \\\n",
       "8640  586356.113693  1761.630667  2695.804973   2695.804973     3.972121   \n",
       "8641  586351.269401  1762.459233  2696.561478   2696.561478     3.339124   \n",
       "8642  586350.938081  1765.312385  2699.165417   2699.165417     4.017044   \n",
       "8643  586307.355517  1724.074201  2656.934508   2656.934508     4.090007   \n",
       "8644  586317.596946  1723.843180  2657.946212   2657.946212     3.831055   \n",
       "\n",
       "      bid_slope_5  bid_slope_10  spread  lob_volume_imbalance  \\\n",
       "8640    53.502450    160.246934    6.19         583660.308720   \n",
       "8641    52.739443    155.402642    6.19         583654.707923   \n",
       "8642    52.408273    155.071322    4.97         583651.772664   \n",
       "8643    47.761226    159.376480    4.96         583650.421009   \n",
       "8644    46.578294    158.194750    4.90         583659.650734   \n",
       "\n",
       "      slope_imbalance_1  slope_imbalance_5  slope_imbalance_10  \n",
       "8640        1757.658546        2642.302523         2535.558040  \n",
       "8641        1759.120109        2643.822035         2541.158836  \n",
       "8642        1761.295341        2646.757144         2544.094095  \n",
       "8643        1719.984195        2609.173283         2497.558029  \n",
       "8644        1720.012125        2611.367918         2499.751462  "
      ]
     },
     "execution_count": 75,
     "metadata": {},
     "output_type": "execute_result"
    }
   ],
   "source": [
    "# df_full_lob['spread'] = df_full_lob['Best Ask'] - df_full_lob['Best Bid']\n",
    "# df_full_lob['lob_volume_imbalance'] = np.abs(df_full_lob['bid_volume'] - df_full_lob['ask_volume'])\n",
    "# thresholds = [1, 5, 10]\n",
    "# for thresh in thresholds:\n",
    "#     df_full_lob[f'slope_imbalance_{thresh}'] = np.abs(df_full_lob[f'ask_slope_{thresh}'] - df_full_lob[f'bid_slope_{thresh}'])\n",
    "# # df_full_lob.drop(['Best Ask', 'Best Bid'], axis=1, inplace=True)\n",
    "# df_full_lob.head()"
   ]
  },
  {
   "cell_type": "code",
   "execution_count": null,
   "metadata": {},
   "outputs": [],
   "source": []
  },
  {
   "cell_type": "code",
   "execution_count": null,
   "metadata": {},
   "outputs": [],
   "source": [
    "# df_full_lob.drop(['Best Ask', 'Best Bid'], axis=1).to_parquet(\"data/df_full_lob.parquet\")"
   ]
  },
  {
   "cell_type": "code",
   "execution_count": null,
   "metadata": {},
   "outputs": [],
   "source": []
  }
 ],
 "metadata": {
  "kernelspec": {
   "display_name": "IML2024",
   "language": "python",
   "name": "python3"
  },
  "language_info": {
   "codemirror_mode": {
    "name": "ipython",
    "version": 3
   },
   "file_extension": ".py",
   "mimetype": "text/x-python",
   "name": "python",
   "nbconvert_exporter": "python",
   "pygments_lexer": "ipython3",
   "version": "3.10.14"
  }
 },
 "nbformat": 4,
 "nbformat_minor": 2
}
